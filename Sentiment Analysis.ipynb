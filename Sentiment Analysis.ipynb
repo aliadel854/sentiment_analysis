{
 "cells": [
  {
   "cell_type": "markdown",
   "id": "b746c1bb",
   "metadata": {},
   "source": [
    "# Import Libraries"
   ]
  },
  {
   "cell_type": "code",
   "execution_count": 1,
   "id": "1764df6f",
   "metadata": {},
   "outputs": [],
   "source": [
    "#Disable all warnings\n",
    "import warnings\n",
    "warnings.filterwarnings('ignore')"
   ]
  },
  {
   "cell_type": "code",
   "execution_count": 3,
   "id": "a6fc7067",
   "metadata": {},
   "outputs": [],
   "source": [
    "import os  # Provides functions for interacting with the operating system\n",
    "import pandas as pd  # Offers data structures and data analysis tools for Python\n",
    "import numpy as np  # Provides support for large, multi-dimensional arrays and matrices\n",
    "import re  # Supplies regular expression matching operations\n",
    "from collections import Counter  # Implements a counter for counting hashable objects\n",
    "from nltk.tokenize import word_tokenize  # Tokenizes text into words\n",
    "from nltk.corpus import stopwords  # Contains a list of common stop words in various languages\n",
    "from gensim.models import Word2Vec  # Implements the Word2Vec algorithm for word embeddings\n",
    "from arabert.preprocess import ArabertPreprocessor  # Preprocesses Arabic text for NLP tasks\n",
    "from gensim.models import KeyedVectors  # Loads and works with pre-trained word vectors\n",
    "import matplotlib.pyplot as plt  # Provides a MATLAB-like plotting framework\n",
    "from sklearn.model_selection import train_test_split  # Splits arrays or matrices into random train and test subsets\n",
    "from sklearn.feature_extraction.text import CountVectorizer  # Converts a collection of text documents to a matrix of token counts\n",
    "from sklearn.metrics.pairwise import cosine_similarity  # Computes the cosine similarity between samples\n",
    "from sklearn.manifold import TSNE  # Provides tools for dimensionality reduction\n",
    "from transformers import AutoTokenizer, AutoModel  # Offers pre-trained models and tokenizers for NLP tasks\n",
    "import torch  # Provides an optimized tensor library for deep learning\n",
    "from sklearn.preprocessing import LabelEncoder  # Encodes target labels with value between 0 and n_classes-1\n",
    "from sklearn.neural_network import MLPClassifier  # Implements a multi-layer perceptron (MLP) algorithm\n",
    "from sklearn.metrics import accuracy_score, precision_score, recall_score, f1_score  # Provides metrics to evaluate classification performance\n",
    "from sklearn.metrics import classification_report  # Generates a text report showing main classification metrics\n",
    "from keras.models import Sequential  # Allows creating a sequential neural network model\n",
    "from keras.layers import LSTM, Dense, Dropout  # Provides layers for LSTM networks, dense layers, and dropout regularization\n"
   ]
  },
  {
   "cell_type": "markdown",
   "id": "bce15997",
   "metadata": {},
   "source": [
    "# Load and Combine the Data:"
   ]
  },
  {
   "cell_type": "markdown",
   "id": "e908018d",
   "metadata": {},
   "source": [
    "1- Load the provided TSV files.\n",
    "\n",
    "2- Combine positive and negative samples.\n",
    "\n",
    "3- Split the training data into training and validation sets."
   ]
  },
  {
   "cell_type": "code",
   "execution_count": 5,
   "id": "b398a87d",
   "metadata": {},
   "outputs": [],
   "source": [
    "def read_dataset(data_dir, num_samples=2500):\n",
    "    \n",
    "    # Define directories for negative and positive data\n",
    "    neg_dir = os.path.join(data_dir, 'neg')\n",
    "    pos_dir = os.path.join(data_dir, 'pos')\n",
    "    \n",
    "    # Get filenames for negative and positive samples\n",
    "    neg_files = os.listdir(neg_dir)[:num_samples//2]\n",
    "    pos_files = os.listdir(pos_dir)[:num_samples//2]\n",
    "    \n",
    "    # Read data from files\n",
    "    neg_data = [open(os.path.join(neg_dir, file), 'r', encoding='utf-8').read() for file in neg_files]\n",
    "    pos_data = [open(os.path.join(pos_dir, file), 'r', encoding='utf-8').read() for file in pos_files]\n",
    "    \n",
    "    # Create DataFrames for negative and positive data\n",
    "    df_neg = pd.DataFrame({'text': neg_data, 'sentiment': ['negative']*len(neg_data)})\n",
    "    df_pos = pd.DataFrame({'text': pos_data, 'sentiment': ['positive']*len(pos_data)})\n",
    "    \n",
    "    # Concatenate and reset the index of DataFrames\n",
    "    return pd.concat([df_neg, df_pos]).reset_index(drop=True)\n"
   ]
  },
  {
   "cell_type": "markdown",
   "id": "7dc2b51f",
   "metadata": {},
   "source": [
    "# Step 2: Tokenize the Data"
   ]
  },
  {
   "cell_type": "markdown",
   "id": "5a13fd87",
   "metadata": {},
   "source": [
    "Step 2.1: Tokenization"
   ]
  },
  {
   "cell_type": "code",
   "execution_count": 6,
   "id": "bb7be952",
   "metadata": {},
   "outputs": [],
   "source": [
    "def tokenize_text(text):\n",
    "    return word_tokenize(text)"
   ]
  },
  {
   "cell_type": "markdown",
   "id": "548f11a3",
   "metadata": {},
   "source": [
    " Step 2.2: Remove of Punctuation, Diacritical Marks(التشكيل), Numbers, and Non-Arabic Words"
   ]
  },
  {
   "cell_type": "code",
   "execution_count": 7,
   "id": "5f419d34",
   "metadata": {},
   "outputs": [],
   "source": [
    "def clean_tokens(tokens):\n",
    "    arabic_tokens = [word for word in tokens if re.match(r'^[\\u0600-\\u06FF]+$', word)]\n",
    "    cleaned_tokens = [re.sub(arabic_punctuation, '', word) for word in arabic_tokens]\n",
    "    cleaned_tokens = [re.sub(arabic_diacritics, '', word) for word in cleaned_tokens]\n",
    "    return cleaned_tokens"
   ]
  },
  {
   "cell_type": "markdown",
   "id": "cf62c84f",
   "metadata": {},
   "source": [
    "Step 2.3: Data representation using BoW"
   ]
  },
  {
   "cell_type": "code",
   "execution_count": 8,
   "id": "4081ba42",
   "metadata": {},
   "outputs": [],
   "source": [
    "def represent_data_with_bow(data):\n",
    "    # Initialize CountVectorizer with custom tokenizer and preprocessor that do nothing\n",
    "    vectorizer = CountVectorizer(tokenizer=lambda x: x, preprocessor=lambda x: x)\n",
    "    \n",
    "    # Fit and transform the 'tokens' column of the input data to a sparse matrix\n",
    "    X = vectorizer.fit_transform(data['tokens'])\n",
    "    \n",
    "    # Convert the sparse matrix to a dense DataFrame with token names as columns\n",
    "    bow_representation = pd.DataFrame(X.toarray(), columns=vectorizer.get_feature_names_out())\n",
    "    \n",
    "    # Return the BoW DataFrame and the fitted vectorizer\n",
    "    return bow_representation, vectorizer"
   ]
  },
  {
   "cell_type": "markdown",
   "id": "9ee134f9",
   "metadata": {},
   "source": [
    "Step 2.4: Data representation function using arabert"
   ]
  },
  {
   "cell_type": "code",
   "execution_count": 9,
   "id": "d2a5e784",
   "metadata": {},
   "outputs": [],
   "source": [
    "def represent_data_with_arabert(data, tokenizer, model):\n",
    "    embeddings = []  # List to store sentence embeddings\n",
    "    all_words = []  # List to store sentences\n",
    "\n",
    "    for w_tokens in data['tokens']:\n",
    "        sentence = ' '.join(w_tokens)  # Join tokens to form a sentence\n",
    "        inputs = tokenizer(sentence, return_tensors=\"pt\", padding=True, truncation=True)  # Tokenize the sentence\n",
    "        outputs = model(**inputs)  # Get model outputs\n",
    "        embedding = outputs.last_hidden_state.mean(dim=1).squeeze().detach().numpy()  # Compute mean embedding\n",
    "        embeddings.append(embedding)  # Append embedding to list\n",
    "        all_words.append(sentence)  # Append sentence to list\n",
    "    \n",
    "    return embeddings, all_words  # Return embeddings and sentences"
   ]
  },
  {
   "cell_type": "markdown",
   "id": "9a1b19ab",
   "metadata": {},
   "source": [
    "Step 2.5: Print the most similar words using BoW"
   ]
  },
  {
   "cell_type": "code",
   "execution_count": 10,
   "id": "d2a67110",
   "metadata": {},
   "outputs": [],
   "source": [
    "def print_similar_words_bow(word, bow_vectorizer, bow_representation):\n",
    "    \n",
    "    # Check if the word is in the BoW vocabulary\n",
    "    if word not in bow_vectorizer.get_feature_names_out():\n",
    "        print(f\"'{word}' not found in the BoW vocabulary.\")\n",
    "        return\n",
    "    \n",
    "    # Get the index of the word in the vocabulary\n",
    "    word_index = bow_vectorizer.vocabulary_[word]\n",
    "    \n",
    "    # Get the word's vector from the BoW representation\n",
    "    word_vector = bow_representation.iloc[:, word_index].values.reshape(1, -1)\n",
    "    \n",
    "    # Calculate cosine similarities between the word vector and all other vectors\n",
    "    similarities = cosine_similarity(word_vector, bow_representation.T)\n",
    "    \n",
    "    # Get indices of the top 5 most similar words (excluding the word itself)\n",
    "    most_similar_indices = similarities.argsort()[0][-6:-1]\n",
    "    \n",
    "    # Get the most similar words using the indices\n",
    "    most_similar_words = [bow_vectorizer.get_feature_names_out()[idx] for idx in most_similar_indices]\n",
    "    \n",
    "    # Print the most similar words\n",
    "    print(f\"Most similar words to '{word}' using BoW:\")\n",
    "    for w in most_similar_words:\n",
    "        print(w)"
   ]
  },
  {
   "cell_type": "markdown",
   "id": "46332778",
   "metadata": {},
   "source": [
    "Step 2.6: Print the most similar words using AraBERT"
   ]
  },
  {
   "cell_type": "code",
   "execution_count": 11,
   "id": "78dccb7c",
   "metadata": {},
   "outputs": [],
   "source": [
    "def print_similar_words(word, embeddings, all_words, tokenizer, model):\n",
    "    try:\n",
    "        # Tokenize the word and get its embedding\n",
    "        inputs = tokenizer(word, return_tensors=\"pt\", padding=True, truncation=True)\n",
    "        outputs = model(**inputs)\n",
    "        word_embedding = outputs.last_hidden_state.mean(dim=1).squeeze().detach().numpy()\n",
    "        \n",
    "        # Convert embeddings list to numpy array\n",
    "        embeddings_array = np.array(embeddings)\n",
    "        \n",
    "        # Calculate cosine similarities between the word embedding and all embeddings\n",
    "        similarities = cosine_similarity(word_embedding.reshape(1, -1), embeddings_array)\n",
    "        \n",
    "        # Get indices of the top 5 most similar words (excluding the word itself)\n",
    "        most_similar_indices = similarities.argsort()[0][-6:-1]\n",
    "        \n",
    "        # Get the most similar words using the indices\n",
    "        most_similar_words = [all_words[idx] for idx in most_similar_indices]\n",
    "        \n",
    "        # Print the most similar words\n",
    "        print(f\"Most similar words to '{word}':\")\n",
    "        for w in most_similar_words:\n",
    "            print(w)\n",
    "    except KeyError:\n",
    "        # Handle the case where the word is not found in the vocabulary\n",
    "        print(f\"'{word}' not found in the vocabulary.\")"
   ]
  },
  {
   "cell_type": "markdown",
   "id": "6cfb85be",
   "metadata": {},
   "source": [
    "Step 2.7: Plot and visualize the embedding and their similarities using BoW"
   ]
  },
  {
   "cell_type": "code",
   "execution_count": 12,
   "id": "cdf2e4f6",
   "metadata": {},
   "outputs": [],
   "source": [
    "def visualize_embeddings_bow(words, vectorizer):\n",
    "    \n",
    "    word_vectors = []\n",
    "    \n",
    "    # Iterate over each word\n",
    "    for word in words:\n",
    "        # Check if the word is in the BoW vocabulary\n",
    "        if word in vectorizer.get_feature_names_out():\n",
    "            # If found, transform the word to its vector representation and append to the list\n",
    "            word_vectors.append(vectorizer.transform([word]).toarray().flatten())\n",
    "    \n",
    "    # Check if any word vectors were found\n",
    "    if not word_vectors:\n",
    "        print(\"No words found in the BoW vocabulary for visualization.\")\n",
    "        return\n",
    "\n",
    "    # Convert the list of word vectors to a numpy array\n",
    "    vectors = np.array(word_vectors)\n",
    "    \n",
    "    # Initialize t-SNE model with specific parameters\n",
    "    tsne_model = TSNE(perplexity=2, n_components=2, init='pca', n_iter=2500, random_state=23)  # Further reduce perplexity\n",
    "    \n",
    "    # Fit and transform the word vectors using t-SNE\n",
    "    new_values = tsne_model.fit_transform(vectors)\n",
    "\n",
    "    # Extract x and y coordinates from the transformed values\n",
    "    x = [value[0] for value in new_values]\n",
    "    y = [value[1] for value in new_values]\n",
    "\n",
    "    # Plot the scatter plot\n",
    "    plt.figure(figsize=(10, 6))\n",
    "    for i in range(len(x)):\n",
    "        plt.scatter(x[i], y[i])\n",
    "        # Annotate each point with its corresponding word\n",
    "        plt.annotate(words[i],\n",
    "                     xy=(x[i], y[i]),\n",
    "                     xytext=(5, 2),\n",
    "                     textcoords='offset points',\n",
    "                     ha='right',\n",
    "                     va='bottom')\n",
    "    # Show the plot\n",
    "    plt.show()"
   ]
  },
  {
   "cell_type": "markdown",
   "id": "e9684acd",
   "metadata": {},
   "source": [
    "Step 2.8: Plot and visualize the embedding and their similarities using AraBERT"
   ]
  },
  {
   "cell_type": "code",
   "execution_count": 13,
   "id": "0fdda1dd",
   "metadata": {},
   "outputs": [],
   "source": [
    "def visualize_embeddings(words, embeddings, tokenizer, model):\n",
    "    word_embeddings = []\n",
    "    \n",
    "    # Iterate over each word\n",
    "    for word in words:\n",
    "        # Tokenize the word and get its embedding\n",
    "        inputs = tokenizer(word, return_tensors=\"pt\")\n",
    "        outputs = model(**inputs)\n",
    "        word_embedding = outputs.last_hidden_state.mean(dim=1).squeeze().detach().numpy()\n",
    "        word_embeddings.append(word_embedding)\n",
    "    \n",
    "    # Convert the list of word embeddings to a numpy array\n",
    "    vectors = np.array(word_embeddings)\n",
    "    \n",
    "    # Initialize t-SNE model with specific parameters\n",
    "    tsne_model = TSNE(perplexity=2, n_components=2, init='pca', n_iter=2500, random_state=23)\n",
    "    \n",
    "    # Fit and transform the word embeddings using t-SNE\n",
    "    new_values = tsne_model.fit_transform(vectors)\n",
    "\n",
    "    # Extract x and y coordinates from the transformed values\n",
    "    x = [value[0] for value in new_values]\n",
    "    y = [value[1] for value in new_values]\n",
    "\n",
    "    # Plot the scatter plot\n",
    "    plt.figure(figsize=(10, 6))\n",
    "    for i in range(len(x)):\n",
    "        plt.scatter(x[i], y[i])\n",
    "        # Annotate each point with its corresponding word\n",
    "        plt.annotate(words[i],\n",
    "                     xy=(x[i], y[i]),\n",
    "                     xytext=(5, 2),\n",
    "                     textcoords='offset points',\n",
    "                     ha='right',\n",
    "                     va='bottom')\n",
    "    # Show the plot\n",
    "    plt.show()"
   ]
  },
  {
   "cell_type": "markdown",
   "id": "1f6cc321",
   "metadata": {},
   "source": [
    "# Read the dataset"
   ]
  },
  {
   "cell_type": "code",
   "execution_count": 14,
   "id": "9cf7e945",
   "metadata": {},
   "outputs": [
    {
     "data": {
      "text/html": [
       "<div>\n",
       "<style scoped>\n",
       "    .dataframe tbody tr th:only-of-type {\n",
       "        vertical-align: middle;\n",
       "    }\n",
       "\n",
       "    .dataframe tbody tr th {\n",
       "        vertical-align: top;\n",
       "    }\n",
       "\n",
       "    .dataframe thead th {\n",
       "        text-align: right;\n",
       "    }\n",
       "</style>\n",
       "<table border=\"1\" class=\"dataframe\">\n",
       "  <thead>\n",
       "    <tr style=\"text-align: right;\">\n",
       "      <th></th>\n",
       "      <th>text</th>\n",
       "      <th>sentiment</th>\n",
       "    </tr>\n",
       "  </thead>\n",
       "  <tbody>\n",
       "    <tr>\n",
       "      <th>0</th>\n",
       "      <td>اعترف ان بتس كانو شوي شوي يجيبو راسي لكن اليوم...</td>\n",
       "      <td>negative</td>\n",
       "    </tr>\n",
       "    <tr>\n",
       "      <th>1</th>\n",
       "      <td>توقعت اذا جات داريا بشوفهم كاملين بس لي للحين ...</td>\n",
       "      <td>negative</td>\n",
       "    </tr>\n",
       "    <tr>\n",
       "      <th>2</th>\n",
       "      <td>لو بيدي أرجع ساعتي وين أرجع؟ إليا صدفه؟ والله ...</td>\n",
       "      <td>negative</td>\n",
       "    </tr>\n",
       "    <tr>\n",
       "      <th>3</th>\n",
       "      <td>💥 حمدا لله .. القيادة كما هي والاعداد في تزايد...</td>\n",
       "      <td>negative</td>\n",
       "    </tr>\n",
       "    <tr>\n",
       "      <th>4</th>\n",
       "      <td>#الهلال_الاهلي مبروك للهلال هاردلك للطحالب 🐸 و...</td>\n",
       "      <td>negative</td>\n",
       "    </tr>\n",
       "    <tr>\n",
       "      <th>...</th>\n",
       "      <td>...</td>\n",
       "      <td>...</td>\n",
       "    </tr>\n",
       "    <tr>\n",
       "      <th>4995</th>\n",
       "      <td>أحب نفسك، أعشقها ودللها .. فتش عن السعادة ستجد...</td>\n",
       "      <td>positive</td>\n",
       "    </tr>\n",
       "    <tr>\n",
       "      <th>4996</th>\n",
       "      <td>بمناسبة فوز الهلال .. 💙 سحب على آيفون XR📱 رتوي...</td>\n",
       "      <td>positive</td>\n",
       "    </tr>\n",
       "    <tr>\n",
       "      <th>4997</th>\n",
       "      <td>#وش_يقول_الليل يقول ارقدي وفكي المسلمين شرك 🌚 ...</td>\n",
       "      <td>positive</td>\n",
       "    </tr>\n",
       "    <tr>\n",
       "      <th>4998</th>\n",
       "      <td>اللهم انك ترى ما لا نرى وتعلم ما لا نعلم فاكفن...</td>\n",
       "      <td>positive</td>\n",
       "    </tr>\n",
       "    <tr>\n",
       "      <th>4999</th>\n",
       "      <td>[ ☆ ] : ون ذا ناين من الفانميتنق .\\n</td>\n",
       "      <td>positive</td>\n",
       "    </tr>\n",
       "  </tbody>\n",
       "</table>\n",
       "<p>5000 rows × 2 columns</p>\n",
       "</div>"
      ],
      "text/plain": [
       "                                                   text sentiment\n",
       "0     اعترف ان بتس كانو شوي شوي يجيبو راسي لكن اليوم...  negative\n",
       "1     توقعت اذا جات داريا بشوفهم كاملين بس لي للحين ...  negative\n",
       "2     لو بيدي أرجع ساعتي وين أرجع؟ إليا صدفه؟ والله ...  negative\n",
       "3     💥 حمدا لله .. القيادة كما هي والاعداد في تزايد...  negative\n",
       "4     #الهلال_الاهلي مبروك للهلال هاردلك للطحالب 🐸 و...  negative\n",
       "...                                                 ...       ...\n",
       "4995  أحب نفسك، أعشقها ودللها .. فتش عن السعادة ستجد...  positive\n",
       "4996  بمناسبة فوز الهلال .. 💙 سحب على آيفون XR📱 رتوي...  positive\n",
       "4997  #وش_يقول_الليل يقول ارقدي وفكي المسلمين شرك 🌚 ...  positive\n",
       "4998  اللهم انك ترى ما لا نرى وتعلم ما لا نعلم فاكفن...  positive\n",
       "4999               [ ☆ ] : ون ذا ناين من الفانميتنق .\\n  positive\n",
       "\n",
       "[5000 rows x 2 columns]"
      ]
     },
     "execution_count": 14,
     "metadata": {},
     "output_type": "execute_result"
    }
   ],
   "source": [
    "data_dir = r'C:\\Users\\DELL\\Desktop\\Specialist\\DataSet\\Sentiment Analysis\\data\\arabic_tweets'\n",
    "data = read_dataset(data_dir, num_samples=5000)\n",
    "data"
   ]
  },
  {
   "cell_type": "markdown",
   "id": "41e4b82d",
   "metadata": {},
   "source": [
    "# Tokenization"
   ]
  },
  {
   "cell_type": "code",
   "execution_count": 144,
   "id": "bb7033bc",
   "metadata": {},
   "outputs": [
    {
     "data": {
      "text/plain": [
       "True"
      ]
     },
     "execution_count": 144,
     "metadata": {},
     "output_type": "execute_result"
    }
   ],
   "source": [
    "import nltk\n",
    "nltk.download('punkt', quiet=True)  # This line downloads the default tokenizer (English)\n",
    "\n",
    "# Now, download the Arabic tokenization model\n",
    "nltk.download('punkt', quiet=True, raise_on_error=True, halt_on_error=False, download_dir=r'~/nltk_data/tokenizers/punkt')"
   ]
  },
  {
   "cell_type": "code",
   "execution_count": 15,
   "id": "eacffffc",
   "metadata": {},
   "outputs": [
    {
     "data": {
      "text/html": [
       "<div>\n",
       "<style scoped>\n",
       "    .dataframe tbody tr th:only-of-type {\n",
       "        vertical-align: middle;\n",
       "    }\n",
       "\n",
       "    .dataframe tbody tr th {\n",
       "        vertical-align: top;\n",
       "    }\n",
       "\n",
       "    .dataframe thead th {\n",
       "        text-align: right;\n",
       "    }\n",
       "</style>\n",
       "<table border=\"1\" class=\"dataframe\">\n",
       "  <thead>\n",
       "    <tr style=\"text-align: right;\">\n",
       "      <th></th>\n",
       "      <th>text</th>\n",
       "      <th>sentiment</th>\n",
       "      <th>tokens</th>\n",
       "    </tr>\n",
       "  </thead>\n",
       "  <tbody>\n",
       "    <tr>\n",
       "      <th>0</th>\n",
       "      <td>اعترف ان بتس كانو شوي شوي يجيبو راسي لكن اليوم...</td>\n",
       "      <td>negative</td>\n",
       "      <td>[اعترف, ان, بتس, كانو, شوي, شوي, يجيبو, راسي, ...</td>\n",
       "    </tr>\n",
       "    <tr>\n",
       "      <th>1</th>\n",
       "      <td>توقعت اذا جات داريا بشوفهم كاملين بس لي للحين ...</td>\n",
       "      <td>negative</td>\n",
       "      <td>[توقعت, اذا, جات, داريا, بشوفهم, كاملين, بس, ل...</td>\n",
       "    </tr>\n",
       "    <tr>\n",
       "      <th>2</th>\n",
       "      <td>لو بيدي أرجع ساعتي وين أرجع؟ إليا صدفه؟ والله ...</td>\n",
       "      <td>negative</td>\n",
       "      <td>[لو, بيدي, أرجع, ساعتي, وين, أرجع؟, إليا, صدفه...</td>\n",
       "    </tr>\n",
       "    <tr>\n",
       "      <th>3</th>\n",
       "      <td>💥 حمدا لله .. القيادة كما هي والاعداد في تزايد...</td>\n",
       "      <td>negative</td>\n",
       "      <td>[💥, حمدا, لله, .., القيادة, كما, هي, والاعداد,...</td>\n",
       "    </tr>\n",
       "    <tr>\n",
       "      <th>4</th>\n",
       "      <td>#الهلال_الاهلي مبروك للهلال هاردلك للطحالب 🐸 و...</td>\n",
       "      <td>negative</td>\n",
       "      <td>[#, الهلال_الاهلي, مبروك, للهلال, هاردلك, للطح...</td>\n",
       "    </tr>\n",
       "    <tr>\n",
       "      <th>...</th>\n",
       "      <td>...</td>\n",
       "      <td>...</td>\n",
       "      <td>...</td>\n",
       "    </tr>\n",
       "    <tr>\n",
       "      <th>4995</th>\n",
       "      <td>أحب نفسك، أعشقها ودللها .. فتش عن السعادة ستجد...</td>\n",
       "      <td>positive</td>\n",
       "      <td>[أحب, نفسك،, أعشقها, ودللها, .., فتش, عن, السع...</td>\n",
       "    </tr>\n",
       "    <tr>\n",
       "      <th>4996</th>\n",
       "      <td>بمناسبة فوز الهلال .. 💙 سحب على آيفون XR📱 رتوي...</td>\n",
       "      <td>positive</td>\n",
       "      <td>[بمناسبة, فوز, الهلال, .., 💙, سحب, على, آيفون,...</td>\n",
       "    </tr>\n",
       "    <tr>\n",
       "      <th>4997</th>\n",
       "      <td>#وش_يقول_الليل يقول ارقدي وفكي المسلمين شرك 🌚 ...</td>\n",
       "      <td>positive</td>\n",
       "      <td>[#, وش_يقول_الليل, يقول, ارقدي, وفكي, المسلمين...</td>\n",
       "    </tr>\n",
       "    <tr>\n",
       "      <th>4998</th>\n",
       "      <td>اللهم انك ترى ما لا نرى وتعلم ما لا نعلم فاكفن...</td>\n",
       "      <td>positive</td>\n",
       "      <td>[اللهم, انك, ترى, ما, لا, نرى, وتعلم, ما, لا, ...</td>\n",
       "    </tr>\n",
       "    <tr>\n",
       "      <th>4999</th>\n",
       "      <td>[ ☆ ] : ون ذا ناين من الفانميتنق .\\n</td>\n",
       "      <td>positive</td>\n",
       "      <td>[[, ☆, ], :, ون, ذا, ناين, من, الفانميتنق, .]</td>\n",
       "    </tr>\n",
       "  </tbody>\n",
       "</table>\n",
       "<p>5000 rows × 3 columns</p>\n",
       "</div>"
      ],
      "text/plain": [
       "                                                   text sentiment  \\\n",
       "0     اعترف ان بتس كانو شوي شوي يجيبو راسي لكن اليوم...  negative   \n",
       "1     توقعت اذا جات داريا بشوفهم كاملين بس لي للحين ...  negative   \n",
       "2     لو بيدي أرجع ساعتي وين أرجع؟ إليا صدفه؟ والله ...  negative   \n",
       "3     💥 حمدا لله .. القيادة كما هي والاعداد في تزايد...  negative   \n",
       "4     #الهلال_الاهلي مبروك للهلال هاردلك للطحالب 🐸 و...  negative   \n",
       "...                                                 ...       ...   \n",
       "4995  أحب نفسك، أعشقها ودللها .. فتش عن السعادة ستجد...  positive   \n",
       "4996  بمناسبة فوز الهلال .. 💙 سحب على آيفون XR📱 رتوي...  positive   \n",
       "4997  #وش_يقول_الليل يقول ارقدي وفكي المسلمين شرك 🌚 ...  positive   \n",
       "4998  اللهم انك ترى ما لا نرى وتعلم ما لا نعلم فاكفن...  positive   \n",
       "4999               [ ☆ ] : ون ذا ناين من الفانميتنق .\\n  positive   \n",
       "\n",
       "                                                 tokens  \n",
       "0     [اعترف, ان, بتس, كانو, شوي, شوي, يجيبو, راسي, ...  \n",
       "1     [توقعت, اذا, جات, داريا, بشوفهم, كاملين, بس, ل...  \n",
       "2     [لو, بيدي, أرجع, ساعتي, وين, أرجع؟, إليا, صدفه...  \n",
       "3     [💥, حمدا, لله, .., القيادة, كما, هي, والاعداد,...  \n",
       "4     [#, الهلال_الاهلي, مبروك, للهلال, هاردلك, للطح...  \n",
       "...                                                 ...  \n",
       "4995  [أحب, نفسك،, أعشقها, ودللها, .., فتش, عن, السع...  \n",
       "4996  [بمناسبة, فوز, الهلال, .., 💙, سحب, على, آيفون,...  \n",
       "4997  [#, وش_يقول_الليل, يقول, ارقدي, وفكي, المسلمين...  \n",
       "4998  [اللهم, انك, ترى, ما, لا, نرى, وتعلم, ما, لا, ...  \n",
       "4999      [[, ☆, ], :, ون, ذا, ناين, من, الفانميتنق, .]  \n",
       "\n",
       "[5000 rows x 3 columns]"
      ]
     },
     "execution_count": 15,
     "metadata": {},
     "output_type": "execute_result"
    }
   ],
   "source": [
    "data['tokens'] = data['text'].apply(tokenize_text)\n",
    "data"
   ]
  },
  {
   "cell_type": "markdown",
   "id": "79d9b5b9",
   "metadata": {},
   "source": [
    "# Cleaning"
   ]
  },
  {
   "cell_type": "markdown",
   "id": "4db2f8e7",
   "metadata": {},
   "source": [
    "Arabic punctuation marks and diacritical marks"
   ]
  },
  {
   "cell_type": "code",
   "execution_count": 16,
   "id": "d33fc49d",
   "metadata": {},
   "outputs": [],
   "source": [
    "arabic_punctuation = r'[\\u060C\\u061B\\u061F\\u066A\\u066B\\u066C\\u066D\\u06D4\\u06DD\\u06DE\\u06E9\\u06EA\\u06EB\\u06EC\\u06ED\\uFD3E\\uFD3F]'\n",
    "arabic_diacritics = r'[\\u0610-\\u061A\\u064B-\\u065F\\u06D6-\\u06ED]'"
   ]
  },
  {
   "cell_type": "markdown",
   "id": "29411e99",
   "metadata": {},
   "source": [
    "Removal of Punctuation, Diacritical Marks, Numbers, and Non-Arabic Words"
   ]
  },
  {
   "cell_type": "code",
   "execution_count": 17,
   "id": "5e4dfdfa",
   "metadata": {},
   "outputs": [
    {
     "data": {
      "text/html": [
       "<div>\n",
       "<style scoped>\n",
       "    .dataframe tbody tr th:only-of-type {\n",
       "        vertical-align: middle;\n",
       "    }\n",
       "\n",
       "    .dataframe tbody tr th {\n",
       "        vertical-align: top;\n",
       "    }\n",
       "\n",
       "    .dataframe thead th {\n",
       "        text-align: right;\n",
       "    }\n",
       "</style>\n",
       "<table border=\"1\" class=\"dataframe\">\n",
       "  <thead>\n",
       "    <tr style=\"text-align: right;\">\n",
       "      <th></th>\n",
       "      <th>text</th>\n",
       "      <th>sentiment</th>\n",
       "      <th>tokens</th>\n",
       "    </tr>\n",
       "  </thead>\n",
       "  <tbody>\n",
       "    <tr>\n",
       "      <th>0</th>\n",
       "      <td>اعترف ان بتس كانو شوي شوي يجيبو راسي لكن اليوم...</td>\n",
       "      <td>negative</td>\n",
       "      <td>[اعترف, ان, بتس, كانو, شوي, شوي, يجيبو, راسي, ...</td>\n",
       "    </tr>\n",
       "    <tr>\n",
       "      <th>1</th>\n",
       "      <td>توقعت اذا جات داريا بشوفهم كاملين بس لي للحين ...</td>\n",
       "      <td>negative</td>\n",
       "      <td>[توقعت, اذا, جات, داريا, بشوفهم, كاملين, بس, ل...</td>\n",
       "    </tr>\n",
       "    <tr>\n",
       "      <th>2</th>\n",
       "      <td>لو بيدي أرجع ساعتي وين أرجع؟ إليا صدفه؟ والله ...</td>\n",
       "      <td>negative</td>\n",
       "      <td>[لو, بيدي, أرجع, ساعتي, وين, أرجع, إليا, صدفه,...</td>\n",
       "    </tr>\n",
       "    <tr>\n",
       "      <th>3</th>\n",
       "      <td>💥 حمدا لله .. القيادة كما هي والاعداد في تزايد...</td>\n",
       "      <td>negative</td>\n",
       "      <td>[حمدا, لله, القيادة, كما, هي, والاعداد, في, تز...</td>\n",
       "    </tr>\n",
       "    <tr>\n",
       "      <th>4</th>\n",
       "      <td>#الهلال_الاهلي مبروك للهلال هاردلك للطحالب 🐸 و...</td>\n",
       "      <td>negative</td>\n",
       "      <td>[مبروك, للهلال, هاردلك, للطحالب, وطز, في, النصر]</td>\n",
       "    </tr>\n",
       "    <tr>\n",
       "      <th>...</th>\n",
       "      <td>...</td>\n",
       "      <td>...</td>\n",
       "      <td>...</td>\n",
       "    </tr>\n",
       "    <tr>\n",
       "      <th>4995</th>\n",
       "      <td>أحب نفسك، أعشقها ودللها .. فتش عن السعادة ستجد...</td>\n",
       "      <td>positive</td>\n",
       "      <td>[أحب, نفسك, أعشقها, ودللها, فتش, عن, السعادة, ...</td>\n",
       "    </tr>\n",
       "    <tr>\n",
       "      <th>4996</th>\n",
       "      <td>بمناسبة فوز الهلال .. 💙 سحب على آيفون XR📱 رتوي...</td>\n",
       "      <td>positive</td>\n",
       "      <td>[بمناسبة, فوز, الهلال, سحب, على, آيفون, رتويت,...</td>\n",
       "    </tr>\n",
       "    <tr>\n",
       "      <th>4997</th>\n",
       "      <td>#وش_يقول_الليل يقول ارقدي وفكي المسلمين شرك 🌚 ...</td>\n",
       "      <td>positive</td>\n",
       "      <td>[يقول, ارقدي, وفكي, المسلمين, شرك, بس, انا, قل...</td>\n",
       "    </tr>\n",
       "    <tr>\n",
       "      <th>4998</th>\n",
       "      <td>اللهم انك ترى ما لا نرى وتعلم ما لا نعلم فاكفن...</td>\n",
       "      <td>positive</td>\n",
       "      <td>[اللهم, انك, ترى, ما, لا, نرى, وتعلم, ما, لا, ...</td>\n",
       "    </tr>\n",
       "    <tr>\n",
       "      <th>4999</th>\n",
       "      <td>[ ☆ ] : ون ذا ناين من الفانميتنق .\\n</td>\n",
       "      <td>positive</td>\n",
       "      <td>[ون, ذا, ناين, من, الفانميتنق]</td>\n",
       "    </tr>\n",
       "  </tbody>\n",
       "</table>\n",
       "<p>5000 rows × 3 columns</p>\n",
       "</div>"
      ],
      "text/plain": [
       "                                                   text sentiment  \\\n",
       "0     اعترف ان بتس كانو شوي شوي يجيبو راسي لكن اليوم...  negative   \n",
       "1     توقعت اذا جات داريا بشوفهم كاملين بس لي للحين ...  negative   \n",
       "2     لو بيدي أرجع ساعتي وين أرجع؟ إليا صدفه؟ والله ...  negative   \n",
       "3     💥 حمدا لله .. القيادة كما هي والاعداد في تزايد...  negative   \n",
       "4     #الهلال_الاهلي مبروك للهلال هاردلك للطحالب 🐸 و...  negative   \n",
       "...                                                 ...       ...   \n",
       "4995  أحب نفسك، أعشقها ودللها .. فتش عن السعادة ستجد...  positive   \n",
       "4996  بمناسبة فوز الهلال .. 💙 سحب على آيفون XR📱 رتوي...  positive   \n",
       "4997  #وش_يقول_الليل يقول ارقدي وفكي المسلمين شرك 🌚 ...  positive   \n",
       "4998  اللهم انك ترى ما لا نرى وتعلم ما لا نعلم فاكفن...  positive   \n",
       "4999               [ ☆ ] : ون ذا ناين من الفانميتنق .\\n  positive   \n",
       "\n",
       "                                                 tokens  \n",
       "0     [اعترف, ان, بتس, كانو, شوي, شوي, يجيبو, راسي, ...  \n",
       "1     [توقعت, اذا, جات, داريا, بشوفهم, كاملين, بس, ل...  \n",
       "2     [لو, بيدي, أرجع, ساعتي, وين, أرجع, إليا, صدفه,...  \n",
       "3     [حمدا, لله, القيادة, كما, هي, والاعداد, في, تز...  \n",
       "4      [مبروك, للهلال, هاردلك, للطحالب, وطز, في, النصر]  \n",
       "...                                                 ...  \n",
       "4995  [أحب, نفسك, أعشقها, ودللها, فتش, عن, السعادة, ...  \n",
       "4996  [بمناسبة, فوز, الهلال, سحب, على, آيفون, رتويت,...  \n",
       "4997  [يقول, ارقدي, وفكي, المسلمين, شرك, بس, انا, قل...  \n",
       "4998  [اللهم, انك, ترى, ما, لا, نرى, وتعلم, ما, لا, ...  \n",
       "4999                     [ون, ذا, ناين, من, الفانميتنق]  \n",
       "\n",
       "[5000 rows x 3 columns]"
      ]
     },
     "execution_count": 17,
     "metadata": {},
     "output_type": "execute_result"
    }
   ],
   "source": [
    "data['tokens'] = data['text'].apply(lambda x: clean_tokens(tokenize_text(x)))\n",
    "data"
   ]
  },
  {
   "cell_type": "markdown",
   "id": "3ccfcb4e",
   "metadata": {},
   "source": [
    "# Data representation"
   ]
  },
  {
   "cell_type": "markdown",
   "id": "79279f61",
   "metadata": {},
   "source": [
    "Data representation using BoW"
   ]
  },
  {
   "cell_type": "code",
   "execution_count": 18,
   "id": "3d4f0199",
   "metadata": {},
   "outputs": [
    {
     "data": {
      "text/html": [
       "<div>\n",
       "<style scoped>\n",
       "    .dataframe tbody tr th:only-of-type {\n",
       "        vertical-align: middle;\n",
       "    }\n",
       "\n",
       "    .dataframe tbody tr th {\n",
       "        vertical-align: top;\n",
       "    }\n",
       "\n",
       "    .dataframe thead th {\n",
       "        text-align: right;\n",
       "    }\n",
       "</style>\n",
       "<table border=\"1\" class=\"dataframe\">\n",
       "  <thead>\n",
       "    <tr style=\"text-align: right;\">\n",
       "      <th></th>\n",
       "      <th></th>\n",
       "      <th>؏</th>\n",
       "      <th>؏ليك</th>\n",
       "      <th>ء</th>\n",
       "      <th>آااه</th>\n",
       "      <th>آبائنا</th>\n",
       "      <th>آبدآع</th>\n",
       "      <th>آبيه</th>\n",
       "      <th>آتخيل</th>\n",
       "      <th>آتكبر</th>\n",
       "      <th>...</th>\n",
       "      <th>گمان</th>\n",
       "      <th>ھادئ</th>\n",
       "      <th>ھھ</th>\n",
       "      <th>ۆ</th>\n",
       "      <th>ۆشلون</th>\n",
       "      <th>ۆلكن</th>\n",
       "      <th>ۈ</th>\n",
       "      <th>ۈالله</th>\n",
       "      <th>یبقی</th>\n",
       "      <th>یوم</th>\n",
       "    </tr>\n",
       "  </thead>\n",
       "  <tbody>\n",
       "    <tr>\n",
       "      <th>0</th>\n",
       "      <td>0</td>\n",
       "      <td>0</td>\n",
       "      <td>0</td>\n",
       "      <td>0</td>\n",
       "      <td>0</td>\n",
       "      <td>0</td>\n",
       "      <td>0</td>\n",
       "      <td>0</td>\n",
       "      <td>0</td>\n",
       "      <td>0</td>\n",
       "      <td>...</td>\n",
       "      <td>0</td>\n",
       "      <td>0</td>\n",
       "      <td>0</td>\n",
       "      <td>0</td>\n",
       "      <td>0</td>\n",
       "      <td>0</td>\n",
       "      <td>0</td>\n",
       "      <td>0</td>\n",
       "      <td>0</td>\n",
       "      <td>0</td>\n",
       "    </tr>\n",
       "    <tr>\n",
       "      <th>1</th>\n",
       "      <td>0</td>\n",
       "      <td>0</td>\n",
       "      <td>0</td>\n",
       "      <td>0</td>\n",
       "      <td>0</td>\n",
       "      <td>0</td>\n",
       "      <td>0</td>\n",
       "      <td>0</td>\n",
       "      <td>0</td>\n",
       "      <td>0</td>\n",
       "      <td>...</td>\n",
       "      <td>0</td>\n",
       "      <td>0</td>\n",
       "      <td>0</td>\n",
       "      <td>0</td>\n",
       "      <td>0</td>\n",
       "      <td>0</td>\n",
       "      <td>0</td>\n",
       "      <td>0</td>\n",
       "      <td>0</td>\n",
       "      <td>0</td>\n",
       "    </tr>\n",
       "    <tr>\n",
       "      <th>2</th>\n",
       "      <td>0</td>\n",
       "      <td>0</td>\n",
       "      <td>0</td>\n",
       "      <td>0</td>\n",
       "      <td>0</td>\n",
       "      <td>0</td>\n",
       "      <td>0</td>\n",
       "      <td>0</td>\n",
       "      <td>0</td>\n",
       "      <td>0</td>\n",
       "      <td>...</td>\n",
       "      <td>0</td>\n",
       "      <td>0</td>\n",
       "      <td>0</td>\n",
       "      <td>0</td>\n",
       "      <td>0</td>\n",
       "      <td>0</td>\n",
       "      <td>0</td>\n",
       "      <td>0</td>\n",
       "      <td>0</td>\n",
       "      <td>0</td>\n",
       "    </tr>\n",
       "    <tr>\n",
       "      <th>3</th>\n",
       "      <td>0</td>\n",
       "      <td>0</td>\n",
       "      <td>0</td>\n",
       "      <td>0</td>\n",
       "      <td>0</td>\n",
       "      <td>0</td>\n",
       "      <td>0</td>\n",
       "      <td>0</td>\n",
       "      <td>0</td>\n",
       "      <td>0</td>\n",
       "      <td>...</td>\n",
       "      <td>0</td>\n",
       "      <td>0</td>\n",
       "      <td>0</td>\n",
       "      <td>0</td>\n",
       "      <td>0</td>\n",
       "      <td>0</td>\n",
       "      <td>0</td>\n",
       "      <td>0</td>\n",
       "      <td>0</td>\n",
       "      <td>0</td>\n",
       "    </tr>\n",
       "    <tr>\n",
       "      <th>4</th>\n",
       "      <td>0</td>\n",
       "      <td>0</td>\n",
       "      <td>0</td>\n",
       "      <td>0</td>\n",
       "      <td>0</td>\n",
       "      <td>0</td>\n",
       "      <td>0</td>\n",
       "      <td>0</td>\n",
       "      <td>0</td>\n",
       "      <td>0</td>\n",
       "      <td>...</td>\n",
       "      <td>0</td>\n",
       "      <td>0</td>\n",
       "      <td>0</td>\n",
       "      <td>0</td>\n",
       "      <td>0</td>\n",
       "      <td>0</td>\n",
       "      <td>0</td>\n",
       "      <td>0</td>\n",
       "      <td>0</td>\n",
       "      <td>0</td>\n",
       "    </tr>\n",
       "    <tr>\n",
       "      <th>...</th>\n",
       "      <td>...</td>\n",
       "      <td>...</td>\n",
       "      <td>...</td>\n",
       "      <td>...</td>\n",
       "      <td>...</td>\n",
       "      <td>...</td>\n",
       "      <td>...</td>\n",
       "      <td>...</td>\n",
       "      <td>...</td>\n",
       "      <td>...</td>\n",
       "      <td>...</td>\n",
       "      <td>...</td>\n",
       "      <td>...</td>\n",
       "      <td>...</td>\n",
       "      <td>...</td>\n",
       "      <td>...</td>\n",
       "      <td>...</td>\n",
       "      <td>...</td>\n",
       "      <td>...</td>\n",
       "      <td>...</td>\n",
       "      <td>...</td>\n",
       "    </tr>\n",
       "    <tr>\n",
       "      <th>4995</th>\n",
       "      <td>0</td>\n",
       "      <td>0</td>\n",
       "      <td>0</td>\n",
       "      <td>0</td>\n",
       "      <td>0</td>\n",
       "      <td>0</td>\n",
       "      <td>0</td>\n",
       "      <td>0</td>\n",
       "      <td>0</td>\n",
       "      <td>0</td>\n",
       "      <td>...</td>\n",
       "      <td>0</td>\n",
       "      <td>0</td>\n",
       "      <td>0</td>\n",
       "      <td>0</td>\n",
       "      <td>0</td>\n",
       "      <td>0</td>\n",
       "      <td>0</td>\n",
       "      <td>0</td>\n",
       "      <td>0</td>\n",
       "      <td>0</td>\n",
       "    </tr>\n",
       "    <tr>\n",
       "      <th>4996</th>\n",
       "      <td>0</td>\n",
       "      <td>0</td>\n",
       "      <td>0</td>\n",
       "      <td>0</td>\n",
       "      <td>0</td>\n",
       "      <td>0</td>\n",
       "      <td>0</td>\n",
       "      <td>0</td>\n",
       "      <td>0</td>\n",
       "      <td>0</td>\n",
       "      <td>...</td>\n",
       "      <td>0</td>\n",
       "      <td>0</td>\n",
       "      <td>0</td>\n",
       "      <td>0</td>\n",
       "      <td>0</td>\n",
       "      <td>0</td>\n",
       "      <td>0</td>\n",
       "      <td>0</td>\n",
       "      <td>0</td>\n",
       "      <td>0</td>\n",
       "    </tr>\n",
       "    <tr>\n",
       "      <th>4997</th>\n",
       "      <td>0</td>\n",
       "      <td>0</td>\n",
       "      <td>0</td>\n",
       "      <td>0</td>\n",
       "      <td>0</td>\n",
       "      <td>0</td>\n",
       "      <td>0</td>\n",
       "      <td>0</td>\n",
       "      <td>0</td>\n",
       "      <td>0</td>\n",
       "      <td>...</td>\n",
       "      <td>0</td>\n",
       "      <td>0</td>\n",
       "      <td>0</td>\n",
       "      <td>0</td>\n",
       "      <td>0</td>\n",
       "      <td>0</td>\n",
       "      <td>0</td>\n",
       "      <td>0</td>\n",
       "      <td>0</td>\n",
       "      <td>0</td>\n",
       "    </tr>\n",
       "    <tr>\n",
       "      <th>4998</th>\n",
       "      <td>0</td>\n",
       "      <td>0</td>\n",
       "      <td>0</td>\n",
       "      <td>0</td>\n",
       "      <td>0</td>\n",
       "      <td>0</td>\n",
       "      <td>0</td>\n",
       "      <td>0</td>\n",
       "      <td>0</td>\n",
       "      <td>0</td>\n",
       "      <td>...</td>\n",
       "      <td>0</td>\n",
       "      <td>0</td>\n",
       "      <td>0</td>\n",
       "      <td>0</td>\n",
       "      <td>0</td>\n",
       "      <td>0</td>\n",
       "      <td>0</td>\n",
       "      <td>0</td>\n",
       "      <td>0</td>\n",
       "      <td>0</td>\n",
       "    </tr>\n",
       "    <tr>\n",
       "      <th>4999</th>\n",
       "      <td>0</td>\n",
       "      <td>0</td>\n",
       "      <td>0</td>\n",
       "      <td>0</td>\n",
       "      <td>0</td>\n",
       "      <td>0</td>\n",
       "      <td>0</td>\n",
       "      <td>0</td>\n",
       "      <td>0</td>\n",
       "      <td>0</td>\n",
       "      <td>...</td>\n",
       "      <td>0</td>\n",
       "      <td>0</td>\n",
       "      <td>0</td>\n",
       "      <td>0</td>\n",
       "      <td>0</td>\n",
       "      <td>0</td>\n",
       "      <td>0</td>\n",
       "      <td>0</td>\n",
       "      <td>0</td>\n",
       "      <td>0</td>\n",
       "    </tr>\n",
       "  </tbody>\n",
       "</table>\n",
       "<p>5000 rows × 17256 columns</p>\n",
       "</div>"
      ],
      "text/plain": [
       "         ؏  ؏ليك  ء  آااه  آبائنا  آبدآع  آبيه  آتخيل  آتكبر  ...  گمان  ھادئ  \\\n",
       "0     0  0     0  0     0       0      0     0      0      0  ...     0     0   \n",
       "1     0  0     0  0     0       0      0     0      0      0  ...     0     0   \n",
       "2     0  0     0  0     0       0      0     0      0      0  ...     0     0   \n",
       "3     0  0     0  0     0       0      0     0      0      0  ...     0     0   \n",
       "4     0  0     0  0     0       0      0     0      0      0  ...     0     0   \n",
       "...  .. ..   ... ..   ...     ...    ...   ...    ...    ...  ...   ...   ...   \n",
       "4995  0  0     0  0     0       0      0     0      0      0  ...     0     0   \n",
       "4996  0  0     0  0     0       0      0     0      0      0  ...     0     0   \n",
       "4997  0  0     0  0     0       0      0     0      0      0  ...     0     0   \n",
       "4998  0  0     0  0     0       0      0     0      0      0  ...     0     0   \n",
       "4999  0  0     0  0     0       0      0     0      0      0  ...     0     0   \n",
       "\n",
       "      ھھ  ۆ  ۆشلون  ۆلكن  ۈ  ۈالله  یبقی  یوم  \n",
       "0      0  0      0     0  0      0     0    0  \n",
       "1      0  0      0     0  0      0     0    0  \n",
       "2      0  0      0     0  0      0     0    0  \n",
       "3      0  0      0     0  0      0     0    0  \n",
       "4      0  0      0     0  0      0     0    0  \n",
       "...   .. ..    ...   ... ..    ...   ...  ...  \n",
       "4995   0  0      0     0  0      0     0    0  \n",
       "4996   0  0      0     0  0      0     0    0  \n",
       "4997   0  0      0     0  0      0     0    0  \n",
       "4998   0  0      0     0  0      0     0    0  \n",
       "4999   0  0      0     0  0      0     0    0  \n",
       "\n",
       "[5000 rows x 17256 columns]"
      ]
     },
     "execution_count": 18,
     "metadata": {},
     "output_type": "execute_result"
    }
   ],
   "source": [
    "bow_representation, bow_vectorizer = represent_data_with_bow(data)\n",
    "bow_representation"
   ]
  },
  {
   "cell_type": "code",
   "execution_count": 19,
   "id": "d5dd16a3",
   "metadata": {},
   "outputs": [
    {
     "data": {
      "text/plain": [
       "CountVectorizer(preprocessor=<function represent_data_with_bow.<locals>.<lambda> at 0x0000019794D4AC10>,\n",
       "                tokenizer=<function represent_data_with_bow.<locals>.<lambda> at 0x0000019794D4AF70>)"
      ]
     },
     "execution_count": 19,
     "metadata": {},
     "output_type": "execute_result"
    }
   ],
   "source": [
    "bow_vectorizer"
   ]
  },
  {
   "cell_type": "markdown",
   "id": "51369e28",
   "metadata": {},
   "source": [
    "Data representation using Arabert"
   ]
  },
  {
   "cell_type": "code",
   "execution_count": 20,
   "id": "3cbdc2aa",
   "metadata": {},
   "outputs": [],
   "source": [
    "tokenizer = AutoTokenizer.from_pretrained(\"aubmindlab/bert-base-arabert\")\n",
    "model = AutoModel.from_pretrained(\"aubmindlab/bert-base-arabert\")"
   ]
  },
  {
   "cell_type": "code",
   "execution_count": 21,
   "id": "038ed75a",
   "metadata": {},
   "outputs": [],
   "source": [
    "arabert_embeddings, arabert_words = represent_data_with_arabert(data, tokenizer, model)\n",
    "# arabert_embeddings"
   ]
  },
  {
   "cell_type": "code",
   "execution_count": 22,
   "id": "75e23423",
   "metadata": {},
   "outputs": [],
   "source": [
    "# arabert_words"
   ]
  },
  {
   "cell_type": "markdown",
   "id": "2c1ff638",
   "metadata": {},
   "source": [
    "# Print the most similar words"
   ]
  },
  {
   "cell_type": "markdown",
   "id": "767fbbbc",
   "metadata": {},
   "source": [
    "BoW"
   ]
  },
  {
   "cell_type": "code",
   "execution_count": 23,
   "id": "cde4f64f",
   "metadata": {},
   "outputs": [
    {
     "name": "stdout",
     "output_type": "stream",
     "text": [
      "Most similar words to 'امتحان' using BoW:\n",
      "لتقديركم\n",
      "انم\n",
      "تاى\n",
      "وثب\n",
      "ماكنسلو\n",
      "Most similar words to 'الأهلي' using BoW:\n",
      "طرد\n",
      "لكرة\n",
      "إذن\n",
      "والتغافل\n",
      "إنتظار\n",
      "Most similar words to 'الاتحاد' using BoW:\n",
      "مختلفا\n",
      "مهدد\n",
      "للدوري\n",
      "بطلا\n",
      "يتوج\n"
     ]
    }
   ],
   "source": [
    "words_to_check = [\"امتحان\", \"الأهلي\", \"الاتحاد\"]\n",
    "for word in words_to_check:\n",
    "    print_similar_words_bow(word, bow_vectorizer, bow_representation)"
   ]
  },
  {
   "cell_type": "markdown",
   "id": "2d07cf2a",
   "metadata": {},
   "source": [
    "AraBERT"
   ]
  },
  {
   "cell_type": "code",
   "execution_count": 24,
   "id": "6595c31d",
   "metadata": {},
   "outputs": [
    {
     "name": "stdout",
     "output_type": "stream",
     "text": [
      "Most similar words to 'امتحان':\n",
      "شهور تستاهل الزرقاء\n",
      "شهور تستاهل الزرقاء\n",
      "ي حظك\n",
      "صح نومي\n",
      "للاسف دوام\n",
      "Most similar words to 'الأهلي':\n",
      "المطر مشالله\n",
      "خسارة التعليم فيهم\n",
      "صبااح النصر\n",
      "الجو يكسل\n",
      "طفو الكهرب\n",
      "Most similar words to 'الاتحاد':\n",
      "صبااح النصر\n",
      "صباح الاتحاد\n",
      "سماعاتي خربوا\n",
      "تيشرت القائد\n",
      "طفو الكهرب\n"
     ]
    }
   ],
   "source": [
    "words_to_check = [\"امتحان\", \"الأهلي\", \"الاتحاد\"]\n",
    "for word in words_to_check:\n",
    "    print_similar_words(word, arabert_embeddings, arabert_words, tokenizer, model)"
   ]
  },
  {
   "cell_type": "markdown",
   "id": "79613435",
   "metadata": {},
   "source": [
    "# Plot and visualize the embedding and their similarities"
   ]
  },
  {
   "cell_type": "markdown",
   "id": "c30adea8",
   "metadata": {},
   "source": [
    "BoW"
   ]
  },
  {
   "cell_type": "code",
   "execution_count": 25,
   "id": "b882e2b7",
   "metadata": {},
   "outputs": [
    {
     "data": {
      "image/png": "[encoded data removed]",
      "text/plain": [
       "<Figure size 720x432 with 1 Axes>"
      ]
     },
     "metadata": {
      "needs_background": "light"
     },
     "output_type": "display_data"
    }
   ],
   "source": [
    "# Plot and visualize the embedding and their similarities using BoW\n",
    "visualize_embeddings_bow(words_to_check, bow_vectorizer)"
   ]
  },
  {
   "cell_type": "markdown",
   "id": "e67b6e7b",
   "metadata": {},
   "source": [
    "AraBERT"
   ]
  },
  {
   "cell_type": "code",
   "execution_count": 26,
   "id": "a13d011e",
   "metadata": {},
   "outputs": [
    {
     "data": {
      "image/png": "[encoded data removed]",
      "text/plain": [
       "<Figure size 720x432 with 1 Axes>"
      ]
     },
     "metadata": {
      "needs_background": "light"
     },
     "output_type": "display_data"
    }
   ],
   "source": [
    "visualize_embeddings(words_to_check, arabert_embeddings, tokenizer, model)"
   ]
  },
  {
   "cell_type": "code",
   "execution_count": 27,
   "id": "6033be20",
   "metadata": {},
   "outputs": [],
   "source": [
    "# Splitting the data into training and testing sets for Bag-of-Words (BoW) representation\n",
    "X_train_bow, X_test_bow, y_train_bow, y_test_bow = train_test_split(\n",
    "    bow_representation, data['sentiment'], test_size=0.2, random_state=42)\n",
    "\n",
    "# Splitting the data into training and testing sets for AraBERT representation\n",
    "X_train_arabert, X_test_arabert, y_train_arabert, y_test_arabert = train_test_split(\n",
    "    arabert_embeddings, data['sentiment'], test_size=0.2, random_state=42)"
   ]
  },
  {
   "cell_type": "markdown",
   "id": "d8a494a4",
   "metadata": {},
   "source": [
    "# Label Encoding"
   ]
  },
  {
   "cell_type": "code",
   "execution_count": 28,
   "id": "efe2c424",
   "metadata": {},
   "outputs": [],
   "source": [
    "# Instantiate the LabelEncoder\n",
    "label_encoder = LabelEncoder()"
   ]
  },
  {
   "cell_type": "code",
   "execution_count": 29,
   "id": "27432752",
   "metadata": {},
   "outputs": [],
   "source": [
    "# bow\n",
    "# Fit and transform the class labels in your training set\n",
    "y_train_encoded_bow = label_encoder.fit_transform(y_train_bow)\n",
    "# Transform the class labels in your test set\n",
    "y_test_encoded_bow = label_encoder.transform(y_test_bow)\n",
    "\n",
    "# arabert\n",
    "# Fit and transform the class labels in your training set\n",
    "y_train_encoded_arabert = label_encoder.transform(y_train_arabert)\n",
    "# Transform the class labels in your test set\n",
    "y_test_encoded_arabert = label_encoder.transform(y_test_arabert)"
   ]
  },
  {
   "cell_type": "markdown",
   "id": "3e5e8963",
   "metadata": {},
   "source": [
    "# Build the Models"
   ]
  },
  {
   "cell_type": "markdown",
   "id": "f032e1f4",
   "metadata": {},
   "source": [
    "# BoW"
   ]
  },
  {
   "cell_type": "markdown",
   "id": "f7c85ea9",
   "metadata": {},
   "source": [
    "Artificial Neural Network (ANN)"
   ]
  },
  {
   "cell_type": "code",
   "execution_count": 30,
   "id": "3f14fdb0",
   "metadata": {},
   "outputs": [
    {
     "data": {
      "text/plain": [
       "MLPClassifier(hidden_layer_sizes=(4,), random_state=42)"
      ]
     },
     "execution_count": 30,
     "metadata": {},
     "output_type": "execute_result"
    }
   ],
   "source": [
    "# Build an artificial neural network\n",
    "ann_model_bow = MLPClassifier(hidden_layer_sizes=(4,), activation='relu', solver='adam', random_state=42)\n",
    "ann_model_bow"
   ]
  },
  {
   "cell_type": "markdown",
   "id": "2d7cdb80",
   "metadata": {},
   "source": [
    "LSTM Model"
   ]
  },
  {
   "cell_type": "code",
   "execution_count": 31,
   "id": "8f67749e",
   "metadata": {},
   "outputs": [],
   "source": [
    "# Build an LSTM model\n",
    "lstm_model_bow = Sequential([\n",
    "    LSTM(64, input_shape=(1, X_train_bow.shape[1])),\n",
    "    Dropout(0.5),\n",
    "    Dense(2, activation='softmax')\n",
    "])"
   ]
  },
  {
   "cell_type": "markdown",
   "id": "e8f5349b",
   "metadata": {},
   "source": [
    "# AraBERT "
   ]
  },
  {
   "cell_type": "markdown",
   "id": "22edc282",
   "metadata": {},
   "source": [
    "Artificial Neural Network (ANN)"
   ]
  },
  {
   "cell_type": "code",
   "execution_count": 32,
   "id": "770bd4fb",
   "metadata": {},
   "outputs": [
    {
     "data": {
      "text/plain": [
       "MLPClassifier(hidden_layer_sizes=(4,), random_state=42)"
      ]
     },
     "execution_count": 32,
     "metadata": {},
     "output_type": "execute_result"
    }
   ],
   "source": [
    "ann_model_arabert = MLPClassifier(hidden_layer_sizes=(4,), activation='relu', solver='adam', random_state=42)\n",
    "ann_model_arabert"
   ]
  },
  {
   "cell_type": "markdown",
   "id": "114a7222",
   "metadata": {},
   "source": [
    "LSTM Model"
   ]
  },
  {
   "cell_type": "code",
   "execution_count": 33,
   "id": "5741db2f",
   "metadata": {},
   "outputs": [
    {
     "name": "stdout",
     "output_type": "stream",
     "text": [
      "(4000, 768)\n"
     ]
    }
   ],
   "source": [
    "# Assuming X_train_arabert is a list\n",
    "X_train_arabert = np.array(X_train_arabert)  # Convert to NumPy array\n",
    "\n",
    "# Now you can access its shape attribute\n",
    "print(X_train_arabert.shape)"
   ]
  },
  {
   "cell_type": "code",
   "execution_count": 34,
   "id": "27c68eae",
   "metadata": {},
   "outputs": [],
   "source": [
    "# Reshape input data for LSTM model\n",
    "X_train_arabert_reshaped = np.expand_dims(X_train_arabert, axis=1)"
   ]
  },
  {
   "cell_type": "code",
   "execution_count": 35,
   "id": "6e350d10",
   "metadata": {},
   "outputs": [],
   "source": [
    "# Define the LSTM model for AraBERT representation\n",
    "lstm_model_arabert = Sequential([\n",
    "    LSTM(64, input_shape=(1, X_train_arabert_reshaped.shape[2])),\n",
    "    Dropout(0.5),\n",
    "    Dense(2, activation='softmax')\n",
    "])"
   ]
  },
  {
   "cell_type": "code",
   "execution_count": 36,
   "id": "901f3d45",
   "metadata": {},
   "outputs": [],
   "source": [
    "# Compile the LSTM model\n",
    "lstm_model_arabert.compile(optimizer='Adam', loss='sparse_categorical_crossentropy', metrics=['accuracy'])"
   ]
  },
  {
   "cell_type": "markdown",
   "id": "c86dc4c2",
   "metadata": {},
   "source": [
    "# Training"
   ]
  },
  {
   "cell_type": "markdown",
   "id": "6723ebf7",
   "metadata": {},
   "source": [
    "BoW Representation\n",
    "\n",
    "Artificial Neural Network (ANN)"
   ]
  },
  {
   "cell_type": "code",
   "execution_count": 37,
   "id": "9a9ab47e",
   "metadata": {},
   "outputs": [
    {
     "data": {
      "text/plain": [
       "MLPClassifier(hidden_layer_sizes=(4,), random_state=42)"
      ]
     },
     "execution_count": 37,
     "metadata": {},
     "output_type": "execute_result"
    }
   ],
   "source": [
    "ann_model_bow.fit(X_train_bow, y_train_encoded_bow)"
   ]
  },
  {
   "cell_type": "markdown",
   "id": "8ab724c8",
   "metadata": {},
   "source": [
    "LSTM"
   ]
  },
  {
   "cell_type": "code",
   "execution_count": 38,
   "id": "647bf9de",
   "metadata": {},
   "outputs": [],
   "source": [
    "lstm_model_bow.compile(optimizer='Adam', loss='sparse_categorical_crossentropy', metrics=['accuracy'])"
   ]
  },
  {
   "cell_type": "code",
   "execution_count": 39,
   "id": "3fff808b",
   "metadata": {},
   "outputs": [],
   "source": [
    "# Reshape input data for LSTM model\n",
    "X_train_bow_reshaped = np.expand_dims(X_train_bow, axis=1)"
   ]
  },
  {
   "cell_type": "code",
   "execution_count": 40,
   "id": "b593b197",
   "metadata": {},
   "outputs": [
    {
     "name": "stdout",
     "output_type": "stream",
     "text": [
      "\u001b[1m125/125\u001b[0m \u001b[32m━━━━━━━━━━━━━━━━━━━━\u001b[0m\u001b[37m\u001b[0m \u001b[1m9s\u001b[0m 40ms/step - accuracy: 0.6006 - loss: 0.6739\n"
     ]
    },
    {
     "data": {
      "text/plain": [
       "<keras.src.callbacks.history.History at 0x197e9ac0fa0>"
      ]
     },
     "execution_count": 40,
     "metadata": {},
     "output_type": "execute_result"
    }
   ],
   "source": [
    "lstm_model_bow.fit(X_train_bow_reshaped, y_train_encoded_bow)"
   ]
  },
  {
   "cell_type": "markdown",
   "id": "552d58c7",
   "metadata": {},
   "source": [
    "AraBERT Representation\n",
    "\n",
    "Artificial Neural Network (ANN)"
   ]
  },
  {
   "cell_type": "code",
   "execution_count": 41,
   "id": "53529450",
   "metadata": {},
   "outputs": [
    {
     "data": {
      "text/plain": [
       "MLPClassifier(hidden_layer_sizes=(4,), random_state=42)"
      ]
     },
     "execution_count": 41,
     "metadata": {},
     "output_type": "execute_result"
    }
   ],
   "source": [
    "ann_model_arabert.fit(X_train_arabert, y_train_encoded_arabert)"
   ]
  },
  {
   "cell_type": "markdown",
   "id": "1d5e5005",
   "metadata": {},
   "source": [
    "LSTM"
   ]
  },
  {
   "cell_type": "code",
   "execution_count": 42,
   "id": "c1475481",
   "metadata": {},
   "outputs": [
    {
     "name": "stdout",
     "output_type": "stream",
     "text": [
      "Epoch 1/100\n",
      "\u001b[1m100/100\u001b[0m \u001b[32m━━━━━━━━━━━━━━━━━━━━\u001b[0m\u001b[37m\u001b[0m \u001b[1m6s\u001b[0m 17ms/step - accuracy: 0.5628 - loss: 0.6801 - val_accuracy: 0.6538 - val_loss: 0.6405\n",
      "Epoch 2/100\n",
      "\u001b[1m100/100\u001b[0m \u001b[32m━━━━━━━━━━━━━━━━━━━━\u001b[0m\u001b[37m\u001b[0m \u001b[1m2s\u001b[0m 10ms/step - accuracy: 0.6489 - loss: 0.6273 - val_accuracy: 0.6350 - val_loss: 0.6535\n",
      "Epoch 3/100\n",
      "\u001b[1m100/100\u001b[0m \u001b[32m━━━━━━━━━━━━━━━━━━━━\u001b[0m\u001b[37m\u001b[0m \u001b[1m1s\u001b[0m 10ms/step - accuracy: 0.6578 - loss: 0.6193 - val_accuracy: 0.6425 - val_loss: 0.6260\n",
      "Epoch 4/100\n",
      "\u001b[1m100/100\u001b[0m \u001b[32m━━━━━━━━━━━━━━━━━━━━\u001b[0m\u001b[37m\u001b[0m \u001b[1m1s\u001b[0m 10ms/step - accuracy: 0.6825 - loss: 0.6016 - val_accuracy: 0.6800 - val_loss: 0.6129\n",
      "Epoch 5/100\n",
      "\u001b[1m100/100\u001b[0m \u001b[32m━━━━━━━━━━━━━━━━━━━━\u001b[0m\u001b[37m\u001b[0m \u001b[1m1s\u001b[0m 10ms/step - accuracy: 0.6895 - loss: 0.5954 - val_accuracy: 0.6587 - val_loss: 0.6254\n",
      "Epoch 6/100\n",
      "\u001b[1m100/100\u001b[0m \u001b[32m━━━━━━━━━━━━━━━━━━━━\u001b[0m\u001b[37m\u001b[0m \u001b[1m1s\u001b[0m 9ms/step - accuracy: 0.7035 - loss: 0.5656 - val_accuracy: 0.6600 - val_loss: 0.6203\n",
      "Epoch 7/100\n",
      "\u001b[1m100/100\u001b[0m \u001b[32m━━━━━━━━━━━━━━━━━━━━\u001b[0m\u001b[37m\u001b[0m \u001b[1m1s\u001b[0m 9ms/step - accuracy: 0.6929 - loss: 0.5682 - val_accuracy: 0.6662 - val_loss: 0.6133\n",
      "Epoch 8/100\n",
      "\u001b[1m100/100\u001b[0m \u001b[32m━━━━━━━━━━━━━━━━━━━━\u001b[0m\u001b[37m\u001b[0m \u001b[1m1s\u001b[0m 9ms/step - accuracy: 0.7321 - loss: 0.5420 - val_accuracy: 0.6600 - val_loss: 0.6580\n",
      "Epoch 9/100\n",
      "\u001b[1m100/100\u001b[0m \u001b[32m━━━━━━━━━━━━━━━━━━━━\u001b[0m\u001b[37m\u001b[0m \u001b[1m1s\u001b[0m 9ms/step - accuracy: 0.7305 - loss: 0.5338 - val_accuracy: 0.6488 - val_loss: 0.6722\n",
      "Epoch 10/100\n",
      "\u001b[1m100/100\u001b[0m \u001b[32m━━━━━━━━━━━━━━━━━━━━\u001b[0m\u001b[37m\u001b[0m \u001b[1m1s\u001b[0m 9ms/step - accuracy: 0.7380 - loss: 0.5286 - val_accuracy: 0.6712 - val_loss: 0.6335\n",
      "Epoch 11/100\n",
      "\u001b[1m100/100\u001b[0m \u001b[32m━━━━━━━━━━━━━━━━━━━━\u001b[0m\u001b[37m\u001b[0m \u001b[1m1s\u001b[0m 9ms/step - accuracy: 0.7502 - loss: 0.5105 - val_accuracy: 0.6488 - val_loss: 0.6256\n",
      "Epoch 12/100\n",
      "\u001b[1m100/100\u001b[0m \u001b[32m━━━━━━━━━━━━━━━━━━━━\u001b[0m\u001b[37m\u001b[0m \u001b[1m1s\u001b[0m 9ms/step - accuracy: 0.7555 - loss: 0.4932 - val_accuracy: 0.6850 - val_loss: 0.6322\n",
      "Epoch 13/100\n",
      "\u001b[1m100/100\u001b[0m \u001b[32m━━━━━━━━━━━━━━━━━━━━\u001b[0m\u001b[37m\u001b[0m \u001b[1m1s\u001b[0m 9ms/step - accuracy: 0.7638 - loss: 0.4740 - val_accuracy: 0.6687 - val_loss: 0.6340\n",
      "Epoch 14/100\n",
      "\u001b[1m100/100\u001b[0m \u001b[32m━━━━━━━━━━━━━━━━━━━━\u001b[0m\u001b[37m\u001b[0m \u001b[1m1s\u001b[0m 9ms/step - accuracy: 0.7673 - loss: 0.4748 - val_accuracy: 0.6812 - val_loss: 0.6137\n",
      "Epoch 15/100\n",
      "\u001b[1m100/100\u001b[0m \u001b[32m━━━━━━━━━━━━━━━━━━━━\u001b[0m\u001b[37m\u001b[0m \u001b[1m1s\u001b[0m 9ms/step - accuracy: 0.7615 - loss: 0.4714 - val_accuracy: 0.6913 - val_loss: 0.6206\n",
      "Epoch 16/100\n",
      "\u001b[1m100/100\u001b[0m \u001b[32m━━━━━━━━━━━━━━━━━━━━\u001b[0m\u001b[37m\u001b[0m \u001b[1m1s\u001b[0m 9ms/step - accuracy: 0.7908 - loss: 0.4402 - val_accuracy: 0.6925 - val_loss: 0.6424\n",
      "Epoch 17/100\n",
      "\u001b[1m100/100\u001b[0m \u001b[32m━━━━━━━━━━━━━━━━━━━━\u001b[0m\u001b[37m\u001b[0m \u001b[1m1s\u001b[0m 9ms/step - accuracy: 0.7926 - loss: 0.4300 - val_accuracy: 0.6825 - val_loss: 0.6260\n",
      "Epoch 18/100\n",
      "\u001b[1m100/100\u001b[0m \u001b[32m━━━━━━━━━━━━━━━━━━━━\u001b[0m\u001b[37m\u001b[0m \u001b[1m1s\u001b[0m 9ms/step - accuracy: 0.7999 - loss: 0.4169 - val_accuracy: 0.6862 - val_loss: 0.6588\n",
      "Epoch 19/100\n",
      "\u001b[1m100/100\u001b[0m \u001b[32m━━━━━━━━━━━━━━━━━━━━\u001b[0m\u001b[37m\u001b[0m \u001b[1m1s\u001b[0m 9ms/step - accuracy: 0.8204 - loss: 0.3994 - val_accuracy: 0.7000 - val_loss: 0.6354\n",
      "Epoch 20/100\n",
      "\u001b[1m100/100\u001b[0m \u001b[32m━━━━━━━━━━━━━━━━━━━━\u001b[0m\u001b[37m\u001b[0m \u001b[1m1s\u001b[0m 9ms/step - accuracy: 0.8391 - loss: 0.3793 - val_accuracy: 0.6812 - val_loss: 0.6581\n",
      "Epoch 21/100\n",
      "\u001b[1m100/100\u001b[0m \u001b[32m━━━━━━━━━━━━━━━━━━━━\u001b[0m\u001b[37m\u001b[0m \u001b[1m1s\u001b[0m 9ms/step - accuracy: 0.8344 - loss: 0.3686 - val_accuracy: 0.6787 - val_loss: 0.6541\n",
      "Epoch 22/100\n",
      "\u001b[1m100/100\u001b[0m \u001b[32m━━━━━━━━━━━━━━━━━━━━\u001b[0m\u001b[37m\u001b[0m \u001b[1m1s\u001b[0m 9ms/step - accuracy: 0.8296 - loss: 0.3737 - val_accuracy: 0.6950 - val_loss: 0.6704\n",
      "Epoch 23/100\n",
      "\u001b[1m100/100\u001b[0m \u001b[32m━━━━━━━━━━━━━━━━━━━━\u001b[0m\u001b[37m\u001b[0m \u001b[1m1s\u001b[0m 9ms/step - accuracy: 0.8373 - loss: 0.3609 - val_accuracy: 0.6925 - val_loss: 0.6982\n",
      "Epoch 24/100\n",
      "\u001b[1m100/100\u001b[0m \u001b[32m━━━━━━━━━━━━━━━━━━━━\u001b[0m\u001b[37m\u001b[0m \u001b[1m1s\u001b[0m 10ms/step - accuracy: 0.8481 - loss: 0.3378 - val_accuracy: 0.6812 - val_loss: 0.6848\n",
      "Epoch 25/100\n",
      "\u001b[1m100/100\u001b[0m \u001b[32m━━━━━━━━━━━━━━━━━━━━\u001b[0m\u001b[37m\u001b[0m \u001b[1m1s\u001b[0m 10ms/step - accuracy: 0.8480 - loss: 0.3336 - val_accuracy: 0.7000 - val_loss: 0.6755\n",
      "Epoch 26/100\n",
      "\u001b[1m100/100\u001b[0m \u001b[32m━━━━━━━━━━━━━━━━━━━━\u001b[0m\u001b[37m\u001b[0m \u001b[1m1s\u001b[0m 9ms/step - accuracy: 0.8546 - loss: 0.3184 - val_accuracy: 0.6837 - val_loss: 0.7070\n",
      "Epoch 27/100\n",
      "\u001b[1m100/100\u001b[0m \u001b[32m━━━━━━━━━━━━━━━━━━━━\u001b[0m\u001b[37m\u001b[0m \u001b[1m1s\u001b[0m 10ms/step - accuracy: 0.8546 - loss: 0.3263 - val_accuracy: 0.6862 - val_loss: 0.7278\n",
      "Epoch 28/100\n",
      "\u001b[1m100/100\u001b[0m \u001b[32m━━━━━━━━━━━━━━━━━━━━\u001b[0m\u001b[37m\u001b[0m \u001b[1m1s\u001b[0m 9ms/step - accuracy: 0.8656 - loss: 0.3085 - val_accuracy: 0.6862 - val_loss: 0.7453\n",
      "Epoch 29/100\n",
      "\u001b[1m100/100\u001b[0m \u001b[32m━━━━━━━━━━━━━━━━━━━━\u001b[0m\u001b[37m\u001b[0m \u001b[1m1s\u001b[0m 9ms/step - accuracy: 0.8838 - loss: 0.2775 - val_accuracy: 0.6913 - val_loss: 0.7312\n",
      "Epoch 30/100\n",
      "\u001b[1m100/100\u001b[0m \u001b[32m━━━━━━━━━━━━━━━━━━━━\u001b[0m\u001b[37m\u001b[0m \u001b[1m1s\u001b[0m 10ms/step - accuracy: 0.8871 - loss: 0.2641 - val_accuracy: 0.6900 - val_loss: 0.7347\n",
      "Epoch 31/100\n",
      "\u001b[1m100/100\u001b[0m \u001b[32m━━━━━━━━━━━━━━━━━━━━\u001b[0m\u001b[37m\u001b[0m \u001b[1m1s\u001b[0m 9ms/step - accuracy: 0.8838 - loss: 0.2649 - val_accuracy: 0.6975 - val_loss: 0.7530\n",
      "Epoch 32/100\n",
      "\u001b[1m100/100\u001b[0m \u001b[32m━━━━━━━━━━━━━━━━━━━━\u001b[0m\u001b[37m\u001b[0m \u001b[1m1s\u001b[0m 9ms/step - accuracy: 0.9065 - loss: 0.2370 - val_accuracy: 0.7088 - val_loss: 0.7356\n",
      "Epoch 33/100\n",
      "\u001b[1m100/100\u001b[0m \u001b[32m━━━━━━━━━━━━━━━━━━━━\u001b[0m\u001b[37m\u001b[0m \u001b[1m1s\u001b[0m 9ms/step - accuracy: 0.9053 - loss: 0.2384 - val_accuracy: 0.6950 - val_loss: 0.7327\n",
      "Epoch 34/100\n",
      "\u001b[1m100/100\u001b[0m \u001b[32m━━━━━━━━━━━━━━━━━━━━\u001b[0m\u001b[37m\u001b[0m \u001b[1m1s\u001b[0m 9ms/step - accuracy: 0.9134 - loss: 0.2367 - val_accuracy: 0.6925 - val_loss: 0.7613\n",
      "Epoch 35/100\n",
      "\u001b[1m100/100\u001b[0m \u001b[32m━━━━━━━━━━━━━━━━━━━━\u001b[0m\u001b[37m\u001b[0m \u001b[1m1s\u001b[0m 9ms/step - accuracy: 0.9000 - loss: 0.2279 - val_accuracy: 0.7075 - val_loss: 0.7570\n",
      "Epoch 36/100\n",
      "\u001b[1m100/100\u001b[0m \u001b[32m━━━━━━━━━━━━━━━━━━━━\u001b[0m\u001b[37m\u001b[0m \u001b[1m1s\u001b[0m 9ms/step - accuracy: 0.9141 - loss: 0.2260 - val_accuracy: 0.7088 - val_loss: 0.7817\n",
      "Epoch 37/100\n",
      "\u001b[1m100/100\u001b[0m \u001b[32m━━━━━━━━━━━━━━━━━━━━\u001b[0m\u001b[37m\u001b[0m \u001b[1m1s\u001b[0m 10ms/step - accuracy: 0.9228 - loss: 0.2004 - val_accuracy: 0.7113 - val_loss: 0.7863\n",
      "Epoch 38/100\n",
      "\u001b[1m100/100\u001b[0m \u001b[32m━━━━━━━━━━━━━━━━━━━━\u001b[0m\u001b[37m\u001b[0m \u001b[1m1s\u001b[0m 9ms/step - accuracy: 0.9320 - loss: 0.1979 - val_accuracy: 0.7125 - val_loss: 0.8068\n",
      "Epoch 39/100\n",
      "\u001b[1m100/100\u001b[0m \u001b[32m━━━━━━━━━━━━━━━━━━━━\u001b[0m\u001b[37m\u001b[0m \u001b[1m1s\u001b[0m 9ms/step - accuracy: 0.9223 - loss: 0.1966 - val_accuracy: 0.7125 - val_loss: 0.7877\n",
      "Epoch 40/100\n",
      "\u001b[1m100/100\u001b[0m \u001b[32m━━━━━━━━━━━━━━━━━━━━\u001b[0m\u001b[37m\u001b[0m \u001b[1m1s\u001b[0m 9ms/step - accuracy: 0.9301 - loss: 0.1904 - val_accuracy: 0.6938 - val_loss: 0.8690\n",
      "Epoch 41/100\n",
      "\u001b[1m100/100\u001b[0m \u001b[32m━━━━━━━━━━━━━━━━━━━━\u001b[0m\u001b[37m\u001b[0m \u001b[1m1s\u001b[0m 9ms/step - accuracy: 0.9332 - loss: 0.1796 - val_accuracy: 0.7075 - val_loss: 0.8000\n",
      "Epoch 42/100\n",
      "\u001b[1m100/100\u001b[0m \u001b[32m━━━━━━━━━━━━━━━━━━━━\u001b[0m\u001b[37m\u001b[0m \u001b[1m1s\u001b[0m 9ms/step - accuracy: 0.9391 - loss: 0.1692 - val_accuracy: 0.7113 - val_loss: 0.8197\n",
      "Epoch 43/100\n",
      "\u001b[1m100/100\u001b[0m \u001b[32m━━━━━━━━━━━━━━━━━━━━\u001b[0m\u001b[37m\u001b[0m \u001b[1m1s\u001b[0m 9ms/step - accuracy: 0.9400 - loss: 0.1636 - val_accuracy: 0.7150 - val_loss: 0.8335\n",
      "Epoch 44/100\n",
      "\u001b[1m100/100\u001b[0m \u001b[32m━━━━━━━━━━━━━━━━━━━━\u001b[0m\u001b[37m\u001b[0m \u001b[1m1s\u001b[0m 10ms/step - accuracy: 0.9391 - loss: 0.1680 - val_accuracy: 0.7100 - val_loss: 0.8263\n",
      "Epoch 45/100\n",
      "\u001b[1m100/100\u001b[0m \u001b[32m━━━━━━━━━━━━━━━━━━━━\u001b[0m\u001b[37m\u001b[0m \u001b[1m1s\u001b[0m 10ms/step - accuracy: 0.9356 - loss: 0.1701 - val_accuracy: 0.7088 - val_loss: 0.8410\n",
      "Epoch 46/100\n",
      "\u001b[1m100/100\u001b[0m \u001b[32m━━━━━━━━━━━━━━━━━━━━\u001b[0m\u001b[37m\u001b[0m \u001b[1m1s\u001b[0m 10ms/step - accuracy: 0.9619 - loss: 0.1309 - val_accuracy: 0.7050 - val_loss: 0.8792\n",
      "Epoch 47/100\n",
      "\u001b[1m100/100\u001b[0m \u001b[32m━━━━━━━━━━━━━━━━━━━━\u001b[0m\u001b[37m\u001b[0m \u001b[1m1s\u001b[0m 10ms/step - accuracy: 0.9496 - loss: 0.1476 - val_accuracy: 0.7088 - val_loss: 0.8602\n",
      "Epoch 48/100\n",
      "\u001b[1m100/100\u001b[0m \u001b[32m━━━━━━━━━━━━━━━━━━━━\u001b[0m\u001b[37m\u001b[0m \u001b[1m1s\u001b[0m 9ms/step - accuracy: 0.9476 - loss: 0.1427 - val_accuracy: 0.7150 - val_loss: 0.8589\n",
      "Epoch 49/100\n",
      "\u001b[1m100/100\u001b[0m \u001b[32m━━━━━━━━━━━━━━━━━━━━\u001b[0m\u001b[37m\u001b[0m \u001b[1m1s\u001b[0m 10ms/step - accuracy: 0.9603 - loss: 0.1285 - val_accuracy: 0.6963 - val_loss: 0.9691\n",
      "Epoch 50/100\n",
      "\u001b[1m100/100\u001b[0m \u001b[32m━━━━━━━━━━━━━━━━━━━━\u001b[0m\u001b[37m\u001b[0m \u001b[1m1s\u001b[0m 9ms/step - accuracy: 0.9498 - loss: 0.1256 - val_accuracy: 0.7225 - val_loss: 0.9257\n"
     ]
    },
    {
     "name": "stdout",
     "output_type": "stream",
     "text": [
      "Epoch 51/100\n",
      "\u001b[1m100/100\u001b[0m \u001b[32m━━━━━━━━━━━━━━━━━━━━\u001b[0m\u001b[37m\u001b[0m \u001b[1m1s\u001b[0m 10ms/step - accuracy: 0.9460 - loss: 0.1426 - val_accuracy: 0.7138 - val_loss: 0.9290\n",
      "Epoch 52/100\n",
      "\u001b[1m100/100\u001b[0m \u001b[32m━━━━━━━━━━━━━━━━━━━━\u001b[0m\u001b[37m\u001b[0m \u001b[1m1s\u001b[0m 9ms/step - accuracy: 0.9551 - loss: 0.1212 - val_accuracy: 0.6862 - val_loss: 0.9919\n",
      "Epoch 53/100\n",
      "\u001b[1m100/100\u001b[0m \u001b[32m━━━━━━━━━━━━━━━━━━━━\u001b[0m\u001b[37m\u001b[0m \u001b[1m1s\u001b[0m 10ms/step - accuracy: 0.9491 - loss: 0.1328 - val_accuracy: 0.7013 - val_loss: 0.9805\n",
      "Epoch 54/100\n",
      "\u001b[1m100/100\u001b[0m \u001b[32m━━━━━━━━━━━━━━━━━━━━\u001b[0m\u001b[37m\u001b[0m \u001b[1m1s\u001b[0m 9ms/step - accuracy: 0.9662 - loss: 0.1021 - val_accuracy: 0.7038 - val_loss: 0.9738\n",
      "Epoch 55/100\n",
      "\u001b[1m100/100\u001b[0m \u001b[32m━━━━━━━━━━━━━━━━━━━━\u001b[0m\u001b[37m\u001b[0m \u001b[1m1s\u001b[0m 10ms/step - accuracy: 0.9659 - loss: 0.1061 - val_accuracy: 0.7063 - val_loss: 0.9407\n",
      "Epoch 56/100\n",
      "\u001b[1m100/100\u001b[0m \u001b[32m━━━━━━━━━━━━━━━━━━━━\u001b[0m\u001b[37m\u001b[0m \u001b[1m1s\u001b[0m 10ms/step - accuracy: 0.9611 - loss: 0.1070 - val_accuracy: 0.6988 - val_loss: 0.9636\n",
      "Epoch 57/100\n",
      "\u001b[1m100/100\u001b[0m \u001b[32m━━━━━━━━━━━━━━━━━━━━\u001b[0m\u001b[37m\u001b[0m \u001b[1m1s\u001b[0m 10ms/step - accuracy: 0.9598 - loss: 0.1121 - val_accuracy: 0.7125 - val_loss: 0.9727\n",
      "Epoch 58/100\n",
      "\u001b[1m100/100\u001b[0m \u001b[32m━━━━━━━━━━━━━━━━━━━━\u001b[0m\u001b[37m\u001b[0m \u001b[1m1s\u001b[0m 9ms/step - accuracy: 0.9704 - loss: 0.0879 - val_accuracy: 0.6775 - val_loss: 1.0374\n",
      "Epoch 59/100\n",
      "\u001b[1m100/100\u001b[0m \u001b[32m━━━━━━━━━━━━━━━━━━━━\u001b[0m\u001b[37m\u001b[0m \u001b[1m1s\u001b[0m 10ms/step - accuracy: 0.9651 - loss: 0.0998 - val_accuracy: 0.7175 - val_loss: 0.9914\n",
      "Epoch 60/100\n",
      "\u001b[1m100/100\u001b[0m \u001b[32m━━━━━━━━━━━━━━━━━━━━\u001b[0m\u001b[37m\u001b[0m \u001b[1m1s\u001b[0m 10ms/step - accuracy: 0.9732 - loss: 0.0842 - val_accuracy: 0.7075 - val_loss: 1.0335\n",
      "Epoch 61/100\n",
      "\u001b[1m100/100\u001b[0m \u001b[32m━━━━━━━━━━━━━━━━━━━━\u001b[0m\u001b[37m\u001b[0m \u001b[1m1s\u001b[0m 10ms/step - accuracy: 0.9674 - loss: 0.0962 - val_accuracy: 0.7000 - val_loss: 0.9913\n",
      "Epoch 62/100\n",
      "\u001b[1m100/100\u001b[0m \u001b[32m━━━━━━━━━━━━━━━━━━━━\u001b[0m\u001b[37m\u001b[0m \u001b[1m1s\u001b[0m 10ms/step - accuracy: 0.9732 - loss: 0.0880 - val_accuracy: 0.7063 - val_loss: 1.0234\n",
      "Epoch 63/100\n",
      "\u001b[1m100/100\u001b[0m \u001b[32m━━━━━━━━━━━━━━━━━━━━\u001b[0m\u001b[37m\u001b[0m \u001b[1m1s\u001b[0m 10ms/step - accuracy: 0.9639 - loss: 0.0949 - val_accuracy: 0.7025 - val_loss: 1.0651\n",
      "Epoch 64/100\n",
      "\u001b[1m100/100\u001b[0m \u001b[32m━━━━━━━━━━━━━━━━━━━━\u001b[0m\u001b[37m\u001b[0m \u001b[1m1s\u001b[0m 10ms/step - accuracy: 0.9662 - loss: 0.0930 - val_accuracy: 0.7038 - val_loss: 1.0292\n",
      "Epoch 65/100\n",
      "\u001b[1m100/100\u001b[0m \u001b[32m━━━━━━━━━━━━━━━━━━━━\u001b[0m\u001b[37m\u001b[0m \u001b[1m1s\u001b[0m 9ms/step - accuracy: 0.9691 - loss: 0.0931 - val_accuracy: 0.7038 - val_loss: 1.0659\n",
      "Epoch 66/100\n",
      "\u001b[1m100/100\u001b[0m \u001b[32m━━━━━━━━━━━━━━━━━━━━\u001b[0m\u001b[37m\u001b[0m \u001b[1m1s\u001b[0m 9ms/step - accuracy: 0.9701 - loss: 0.0862 - val_accuracy: 0.6975 - val_loss: 1.1008\n",
      "Epoch 67/100\n",
      "\u001b[1m100/100\u001b[0m \u001b[32m━━━━━━━━━━━━━━━━━━━━\u001b[0m\u001b[37m\u001b[0m \u001b[1m1s\u001b[0m 10ms/step - accuracy: 0.9722 - loss: 0.0820 - val_accuracy: 0.6938 - val_loss: 1.1079\n",
      "Epoch 68/100\n",
      "\u001b[1m100/100\u001b[0m \u001b[32m━━━━━━━━━━━━━━━━━━━━\u001b[0m\u001b[37m\u001b[0m \u001b[1m1s\u001b[0m 9ms/step - accuracy: 0.9681 - loss: 0.0808 - val_accuracy: 0.7038 - val_loss: 1.1075\n",
      "Epoch 69/100\n",
      "\u001b[1m100/100\u001b[0m \u001b[32m━━━━━━━━━━━━━━━━━━━━\u001b[0m\u001b[37m\u001b[0m \u001b[1m1s\u001b[0m 9ms/step - accuracy: 0.9729 - loss: 0.0677 - val_accuracy: 0.6963 - val_loss: 1.0740\n",
      "Epoch 70/100\n",
      "\u001b[1m100/100\u001b[0m \u001b[32m━━━━━━━━━━━━━━━━━━━━\u001b[0m\u001b[37m\u001b[0m \u001b[1m1s\u001b[0m 9ms/step - accuracy: 0.9768 - loss: 0.0738 - val_accuracy: 0.6975 - val_loss: 1.1184\n",
      "Epoch 71/100\n",
      "\u001b[1m100/100\u001b[0m \u001b[32m━━━━━━━━━━━━━━━━━━━━\u001b[0m\u001b[37m\u001b[0m \u001b[1m1s\u001b[0m 9ms/step - accuracy: 0.9760 - loss: 0.0750 - val_accuracy: 0.7000 - val_loss: 1.1584\n",
      "Epoch 72/100\n",
      "\u001b[1m100/100\u001b[0m \u001b[32m━━━━━━━━━━━━━━━━━━━━\u001b[0m\u001b[37m\u001b[0m \u001b[1m1s\u001b[0m 10ms/step - accuracy: 0.9792 - loss: 0.0677 - val_accuracy: 0.7025 - val_loss: 1.1566\n",
      "Epoch 73/100\n",
      "\u001b[1m100/100\u001b[0m \u001b[32m━━━━━━━━━━━━━━━━━━━━\u001b[0m\u001b[37m\u001b[0m \u001b[1m1s\u001b[0m 9ms/step - accuracy: 0.9828 - loss: 0.0593 - val_accuracy: 0.7125 - val_loss: 1.1807\n",
      "Epoch 74/100\n",
      "\u001b[1m100/100\u001b[0m \u001b[32m━━━━━━━━━━━━━━━━━━━━\u001b[0m\u001b[37m\u001b[0m \u001b[1m1s\u001b[0m 10ms/step - accuracy: 0.9782 - loss: 0.0651 - val_accuracy: 0.7025 - val_loss: 1.2020\n",
      "Epoch 75/100\n",
      "\u001b[1m100/100\u001b[0m \u001b[32m━━━━━━━━━━━━━━━━━━━━\u001b[0m\u001b[37m\u001b[0m \u001b[1m1s\u001b[0m 9ms/step - accuracy: 0.9799 - loss: 0.0666 - val_accuracy: 0.7100 - val_loss: 1.1720\n",
      "Epoch 76/100\n",
      "\u001b[1m100/100\u001b[0m \u001b[32m━━━━━━━━━━━━━━━━━━━━\u001b[0m\u001b[37m\u001b[0m \u001b[1m1s\u001b[0m 9ms/step - accuracy: 0.9806 - loss: 0.0647 - val_accuracy: 0.7038 - val_loss: 1.1695\n",
      "Epoch 77/100\n",
      "\u001b[1m100/100\u001b[0m \u001b[32m━━━━━━━━━━━━━━━━━━━━\u001b[0m\u001b[37m\u001b[0m \u001b[1m1s\u001b[0m 9ms/step - accuracy: 0.9757 - loss: 0.0675 - val_accuracy: 0.7250 - val_loss: 1.1293\n",
      "Epoch 78/100\n",
      "\u001b[1m100/100\u001b[0m \u001b[32m━━━━━━━━━━━━━━━━━━━━\u001b[0m\u001b[37m\u001b[0m \u001b[1m1s\u001b[0m 10ms/step - accuracy: 0.9776 - loss: 0.0665 - val_accuracy: 0.7138 - val_loss: 1.0725\n",
      "Epoch 79/100\n",
      "\u001b[1m100/100\u001b[0m \u001b[32m━━━━━━━━━━━━━━━━━━━━\u001b[0m\u001b[37m\u001b[0m \u001b[1m1s\u001b[0m 9ms/step - accuracy: 0.9745 - loss: 0.0814 - val_accuracy: 0.6963 - val_loss: 1.1630\n",
      "Epoch 80/100\n",
      "\u001b[1m100/100\u001b[0m \u001b[32m━━━━━━━━━━━━━━━━━━━━\u001b[0m\u001b[37m\u001b[0m \u001b[1m1s\u001b[0m 9ms/step - accuracy: 0.9801 - loss: 0.0588 - val_accuracy: 0.7075 - val_loss: 1.1796\n",
      "Epoch 81/100\n",
      "\u001b[1m100/100\u001b[0m \u001b[32m━━━━━━━━━━━━━━━━━━━━\u001b[0m\u001b[37m\u001b[0m \u001b[1m1s\u001b[0m 9ms/step - accuracy: 0.9789 - loss: 0.0647 - val_accuracy: 0.7025 - val_loss: 1.2116\n",
      "Epoch 82/100\n",
      "\u001b[1m100/100\u001b[0m \u001b[32m━━━━━━━━━━━━━━━━━━━━\u001b[0m\u001b[37m\u001b[0m \u001b[1m1s\u001b[0m 9ms/step - accuracy: 0.9764 - loss: 0.0624 - val_accuracy: 0.6913 - val_loss: 1.1776\n",
      "Epoch 83/100\n",
      "\u001b[1m100/100\u001b[0m \u001b[32m━━━━━━━━━━━━━━━━━━━━\u001b[0m\u001b[37m\u001b[0m \u001b[1m1s\u001b[0m 9ms/step - accuracy: 0.9794 - loss: 0.0635 - val_accuracy: 0.6975 - val_loss: 1.2620\n",
      "Epoch 84/100\n",
      "\u001b[1m100/100\u001b[0m \u001b[32m━━━━━━━━━━━━━━━━━━━━\u001b[0m\u001b[37m\u001b[0m \u001b[1m1s\u001b[0m 9ms/step - accuracy: 0.9781 - loss: 0.0582 - val_accuracy: 0.6875 - val_loss: 1.2519\n",
      "Epoch 85/100\n",
      "\u001b[1m100/100\u001b[0m \u001b[32m━━━━━━━━━━━━━━━━━━━━\u001b[0m\u001b[37m\u001b[0m \u001b[1m1s\u001b[0m 9ms/step - accuracy: 0.9823 - loss: 0.0551 - val_accuracy: 0.7038 - val_loss: 1.2086\n",
      "Epoch 86/100\n",
      "\u001b[1m100/100\u001b[0m \u001b[32m━━━━━━━━━━━━━━━━━━━━\u001b[0m\u001b[37m\u001b[0m \u001b[1m1s\u001b[0m 9ms/step - accuracy: 0.9778 - loss: 0.0625 - val_accuracy: 0.6913 - val_loss: 1.2106\n",
      "Epoch 87/100\n",
      "\u001b[1m100/100\u001b[0m \u001b[32m━━━━━━━━━━━━━━━━━━━━\u001b[0m\u001b[37m\u001b[0m \u001b[1m1s\u001b[0m 9ms/step - accuracy: 0.9774 - loss: 0.0579 - val_accuracy: 0.6787 - val_loss: 1.2663\n",
      "Epoch 88/100\n",
      "\u001b[1m100/100\u001b[0m \u001b[32m━━━━━━━━━━━━━━━━━━━━\u001b[0m\u001b[37m\u001b[0m \u001b[1m1s\u001b[0m 9ms/step - accuracy: 0.9786 - loss: 0.0572 - val_accuracy: 0.7038 - val_loss: 1.2585\n",
      "Epoch 89/100\n",
      "\u001b[1m100/100\u001b[0m \u001b[32m━━━━━━━━━━━━━━━━━━━━\u001b[0m\u001b[37m\u001b[0m \u001b[1m1s\u001b[0m 9ms/step - accuracy: 0.9857 - loss: 0.0441 - val_accuracy: 0.7013 - val_loss: 1.2886\n",
      "Epoch 90/100\n",
      "\u001b[1m100/100\u001b[0m \u001b[32m━━━━━━━━━━━━━━━━━━━━\u001b[0m\u001b[37m\u001b[0m \u001b[1m1s\u001b[0m 9ms/step - accuracy: 0.9764 - loss: 0.0622 - val_accuracy: 0.6975 - val_loss: 1.2617\n",
      "Epoch 91/100\n",
      "\u001b[1m100/100\u001b[0m \u001b[32m━━━━━━━━━━━━━━━━━━━━\u001b[0m\u001b[37m\u001b[0m \u001b[1m1s\u001b[0m 10ms/step - accuracy: 0.9855 - loss: 0.0485 - val_accuracy: 0.6950 - val_loss: 1.2891\n",
      "Epoch 92/100\n",
      "\u001b[1m100/100\u001b[0m \u001b[32m━━━━━━━━━━━━━━━━━━━━\u001b[0m\u001b[37m\u001b[0m \u001b[1m1s\u001b[0m 10ms/step - accuracy: 0.9825 - loss: 0.0540 - val_accuracy: 0.6950 - val_loss: 1.3193\n",
      "Epoch 93/100\n",
      "\u001b[1m100/100\u001b[0m \u001b[32m━━━━━━━━━━━━━━━━━━━━\u001b[0m\u001b[37m\u001b[0m \u001b[1m1s\u001b[0m 10ms/step - accuracy: 0.9800 - loss: 0.0551 - val_accuracy: 0.7013 - val_loss: 1.1917\n",
      "Epoch 94/100\n",
      "\u001b[1m100/100\u001b[0m \u001b[32m━━━━━━━━━━━━━━━━━━━━\u001b[0m\u001b[37m\u001b[0m \u001b[1m1s\u001b[0m 9ms/step - accuracy: 0.9826 - loss: 0.0576 - val_accuracy: 0.7038 - val_loss: 1.2508\n",
      "Epoch 95/100\n",
      "\u001b[1m100/100\u001b[0m \u001b[32m━━━━━━━━━━━━━━━━━━━━\u001b[0m\u001b[37m\u001b[0m \u001b[1m1s\u001b[0m 9ms/step - accuracy: 0.9800 - loss: 0.0595 - val_accuracy: 0.6950 - val_loss: 1.3350\n",
      "Epoch 96/100\n",
      "\u001b[1m100/100\u001b[0m \u001b[32m━━━━━━━━━━━━━━━━━━━━\u001b[0m\u001b[37m\u001b[0m \u001b[1m1s\u001b[0m 10ms/step - accuracy: 0.9774 - loss: 0.0672 - val_accuracy: 0.7100 - val_loss: 1.2845\n",
      "Epoch 97/100\n",
      "\u001b[1m100/100\u001b[0m \u001b[32m━━━━━━━━━━━━━━━━━━━━\u001b[0m\u001b[37m\u001b[0m \u001b[1m1s\u001b[0m 9ms/step - accuracy: 0.9872 - loss: 0.0385 - val_accuracy: 0.6975 - val_loss: 1.3011\n",
      "Epoch 98/100\n",
      "\u001b[1m100/100\u001b[0m \u001b[32m━━━━━━━━━━━━━━━━━━━━\u001b[0m\u001b[37m\u001b[0m \u001b[1m1s\u001b[0m 10ms/step - accuracy: 0.9799 - loss: 0.0561 - val_accuracy: 0.7000 - val_loss: 1.3466\n",
      "Epoch 99/100\n",
      "\u001b[1m100/100\u001b[0m \u001b[32m━━━━━━━━━━━━━━━━━━━━\u001b[0m\u001b[37m\u001b[0m \u001b[1m1s\u001b[0m 9ms/step - accuracy: 0.9866 - loss: 0.0420 - val_accuracy: 0.6862 - val_loss: 1.2835\n",
      "Epoch 100/100\n",
      "\u001b[1m100/100\u001b[0m \u001b[32m━━━━━━━━━━━━━━━━━━━━\u001b[0m\u001b[37m\u001b[0m \u001b[1m1s\u001b[0m 9ms/step - accuracy: 0.9822 - loss: 0.0501 - val_accuracy: 0.7000 - val_loss: 1.2829\n"
     ]
    },
    {
     "data": {
      "text/plain": [
       "<keras.src.callbacks.history.History at 0x19831660ee0>"
      ]
     },
     "execution_count": 42,
     "metadata": {},
     "output_type": "execute_result"
    }
   ],
   "source": [
    "lstm_model_arabert.fit(X_train_arabert_reshaped, y_train_encoded_arabert, epochs=100, batch_size=32, validation_split=0.2)"
   ]
  },
  {
   "cell_type": "markdown",
   "id": "6fef4c65",
   "metadata": {},
   "source": [
    "Evaluating\n",
    "\n",
    "Bag-of-Words (BoW) Representation\n",
    "\n",
    "Artificial Neural Network (ANN)"
   ]
  },
  {
   "cell_type": "code",
   "execution_count": 43,
   "id": "a9d8b4a5",
   "metadata": {},
   "outputs": [],
   "source": [
    "y_pred_bow_ann = ann_model_bow.predict(X_test_bow)"
   ]
  },
  {
   "cell_type": "code",
   "execution_count": 44,
   "id": "3bbda631",
   "metadata": {},
   "outputs": [
    {
     "name": "stdout",
     "output_type": "stream",
     "text": [
      "Bag-of-Words (BoW) Representation:\n",
      "Accuracy: 0.691\n",
      "Precision: 0.70020964360587\n",
      "Recall: 0.668\n",
      "F1-score: 0.6837256908904811\n"
     ]
    }
   ],
   "source": [
    "accuracy_bow_ann = accuracy_score(y_test_encoded_bow, y_pred_bow_ann)\n",
    "precision_bow_ann = precision_score(y_test_encoded_bow, y_pred_bow_ann)\n",
    "recall_bow_ann = recall_score(y_test_encoded_bow, y_pred_bow_ann)\n",
    "f1_bow_ann = f1_score(y_test_encoded_bow, y_pred_bow_ann)\n",
    "\n",
    "print(\"Bag-of-Words (BoW) Representation:\")\n",
    "print(\"Accuracy:\", accuracy_bow_ann)\n",
    "print(\"Precision:\", precision_bow_ann)\n",
    "print(\"Recall:\", recall_bow_ann)\n",
    "print(\"F1-score:\", f1_bow_ann)"
   ]
  },
  {
   "cell_type": "code",
   "execution_count": 45,
   "id": "73fd40b0",
   "metadata": {},
   "outputs": [
    {
     "name": "stdout",
     "output_type": "stream",
     "text": [
      "Classification Report for Bag-of-Words (BoW) Representation:\n",
      "               precision    recall  f1-score   support\n",
      "\n",
      "           0       0.68      0.71      0.70       500\n",
      "           1       0.70      0.67      0.68       500\n",
      "\n",
      "    accuracy                           0.69      1000\n",
      "   macro avg       0.69      0.69      0.69      1000\n",
      "weighted avg       0.69      0.69      0.69      1000\n",
      "\n"
     ]
    }
   ],
   "source": [
    "# Generate classification report for BoW representation\n",
    "classification_report_bow_ann = classification_report(y_test_encoded_bow, y_pred_bow_ann)\n",
    "print(\"Classification Report for Bag-of-Words (BoW) Representation:\\n\", classification_report_bow_ann)"
   ]
  },
  {
   "cell_type": "markdown",
   "id": "47bd0b81",
   "metadata": {},
   "source": [
    "LSTM model Evaluation"
   ]
  },
  {
   "cell_type": "code",
   "execution_count": 46,
   "id": "fad76596",
   "metadata": {},
   "outputs": [],
   "source": [
    "# Reshape input data for LSTM model\n",
    "X_test_bow_reshaped = np.expand_dims(X_test_bow, axis=1)"
   ]
  },
  {
   "cell_type": "code",
   "execution_count": 47,
   "id": "791c7d9a",
   "metadata": {},
   "outputs": [
    {
     "name": "stdout",
     "output_type": "stream",
     "text": [
      "\u001b[1m32/32\u001b[0m \u001b[32m━━━━━━━━━━━━━━━━━━━━\u001b[0m\u001b[37m\u001b[0m \u001b[1m1s\u001b[0m 23ms/step\n"
     ]
    }
   ],
   "source": [
    "y_pred_bow_lstm = lstm_model_bow.predict(X_test_bow_reshaped).argmax(axis=-1)"
   ]
  },
  {
   "cell_type": "code",
   "execution_count": 48,
   "id": "4446891a",
   "metadata": {},
   "outputs": [
    {
     "data": {
      "text/plain": [
       "(1000,)"
      ]
     },
     "execution_count": 48,
     "metadata": {},
     "output_type": "execute_result"
    }
   ],
   "source": [
    "y_test_encoded_bow.shape"
   ]
  },
  {
   "cell_type": "code",
   "execution_count": 49,
   "id": "002b5b3a",
   "metadata": {},
   "outputs": [
    {
     "data": {
      "text/plain": [
       "(1000,)"
      ]
     },
     "execution_count": 49,
     "metadata": {},
     "output_type": "execute_result"
    }
   ],
   "source": [
    "y_pred_bow_lstm.shape"
   ]
  },
  {
   "cell_type": "code",
   "execution_count": 50,
   "id": "24b99b36",
   "metadata": {},
   "outputs": [
    {
     "name": "stdout",
     "output_type": "stream",
     "text": [
      "Bag-of-Words (BoW) Representation:\n",
      "Accuracy: 0.688\n",
      "Precision: 0.7259615384615384\n",
      "Recall: 0.604\n",
      "F1-score: 0.6593886462882096\n"
     ]
    }
   ],
   "source": [
    "accuracy_bow_lstm = accuracy_score(y_test_encoded_bow, y_pred_bow_lstm)\n",
    "precision_bow_lstm = precision_score(y_test_encoded_bow, y_pred_bow_lstm)\n",
    "recall_bow_lstm = recall_score(y_test_encoded_bow, y_pred_bow_lstm)\n",
    "f1_bow_lstm = f1_score(y_test_encoded_bow, y_pred_bow_lstm)\n",
    "\n",
    "print(\"Bag-of-Words (BoW) Representation:\")\n",
    "print(\"Accuracy:\", accuracy_bow_lstm)\n",
    "print(\"Precision:\", precision_bow_lstm)\n",
    "print(\"Recall:\", recall_bow_lstm)\n",
    "print(\"F1-score:\", f1_bow_lstm)"
   ]
  },
  {
   "cell_type": "code",
   "execution_count": 51,
   "id": "829d2acc",
   "metadata": {},
   "outputs": [
    {
     "name": "stdout",
     "output_type": "stream",
     "text": [
      "Classification Report for Bag-of-Words (BoW) Representation:\n",
      "               precision    recall  f1-score   support\n",
      "\n",
      "           0       0.66      0.77      0.71       500\n",
      "           1       0.73      0.60      0.66       500\n",
      "\n",
      "    accuracy                           0.69      1000\n",
      "   macro avg       0.69      0.69      0.69      1000\n",
      "weighted avg       0.69      0.69      0.69      1000\n",
      "\n"
     ]
    }
   ],
   "source": [
    "# Generate classification report for BoW representation\n",
    "classification_report_bow_lstm = classification_report(y_test_encoded_bow, y_pred_bow_lstm)\n",
    "print(\"Classification Report for Bag-of-Words (BoW) Representation:\\n\", classification_report_bow_lstm)"
   ]
  },
  {
   "cell_type": "markdown",
   "id": "978a0109",
   "metadata": {},
   "source": [
    "AraBERT Representation\n",
    "\n",
    "Artificial Neural Network (ANN)"
   ]
  },
  {
   "cell_type": "code",
   "execution_count": 52,
   "id": "bfa1ab36",
   "metadata": {},
   "outputs": [],
   "source": [
    "y_pred_arabert_ann = ann_model_arabert.predict(X_test_arabert)"
   ]
  },
  {
   "cell_type": "code",
   "execution_count": 53,
   "id": "6cda54f2",
   "metadata": {},
   "outputs": [
    {
     "name": "stdout",
     "output_type": "stream",
     "text": [
      "AraBERT Representation:\n",
      "Accuracy: 0.689\n",
      "Precision: 0.702355460385439\n",
      "Recall: 0.656\n",
      "F1-score: 0.6783867631851085\n"
     ]
    }
   ],
   "source": [
    "accuracy_arabert_ann = accuracy_score(y_test_encoded_arabert, y_pred_arabert_ann)\n",
    "precision_arabert_ann = precision_score(y_test_encoded_arabert, y_pred_arabert_ann)\n",
    "recall_arabert_ann = recall_score(y_test_encoded_arabert, y_pred_arabert_ann)\n",
    "f1_arabert_ann = f1_score(y_test_encoded_arabert, y_pred_arabert_ann)\n",
    "\n",
    "print(\"AraBERT Representation:\")\n",
    "print(\"Accuracy:\", accuracy_arabert_ann)\n",
    "print(\"Precision:\", precision_arabert_ann)\n",
    "print(\"Recall:\", recall_arabert_ann)\n",
    "print(\"F1-score:\", f1_arabert_ann)"
   ]
  },
  {
   "cell_type": "code",
   "execution_count": 54,
   "id": "22672f53",
   "metadata": {},
   "outputs": [
    {
     "name": "stdout",
     "output_type": "stream",
     "text": [
      "Classification Report for AraBERT Representation:\n",
      "               precision    recall  f1-score   support\n",
      "\n",
      "           0       0.68      0.72      0.70       500\n",
      "           1       0.70      0.66      0.68       500\n",
      "\n",
      "    accuracy                           0.69      1000\n",
      "   macro avg       0.69      0.69      0.69      1000\n",
      "weighted avg       0.69      0.69      0.69      1000\n",
      "\n"
     ]
    }
   ],
   "source": [
    "# Generate classification report for AraBERT representation\n",
    "classification_report_arabert_ann = classification_report(y_test_encoded_arabert, y_pred_arabert_ann)\n",
    "print(\"Classification Report for AraBERT Representation:\\n\", classification_report_arabert_ann)"
   ]
  },
  {
   "cell_type": "markdown",
   "id": "87f8fad7",
   "metadata": {},
   "source": [
    "LSTM Model"
   ]
  },
  {
   "cell_type": "code",
   "execution_count": 55,
   "id": "25bbcef7",
   "metadata": {},
   "outputs": [
    {
     "name": "stdout",
     "output_type": "stream",
     "text": [
      "(4000, 768)\n"
     ]
    }
   ],
   "source": [
    "# Assuming X_train_arabert is a list\n",
    "X_test_arabert = np.array(X_test_arabert)  # Convert to NumPy array\n",
    "\n",
    "# Now you can access its shape attribute\n",
    "print(X_train_arabert.shape)"
   ]
  },
  {
   "cell_type": "code",
   "execution_count": 56,
   "id": "a6afda45",
   "metadata": {},
   "outputs": [],
   "source": [
    "# Reshape input data for LSTM model\n",
    "X_test_arabert_reshaped = np.expand_dims(X_test_arabert, axis=1)"
   ]
  },
  {
   "cell_type": "code",
   "execution_count": 57,
   "id": "345d978b",
   "metadata": {},
   "outputs": [
    {
     "name": "stdout",
     "output_type": "stream",
     "text": [
      "\u001b[1m32/32\u001b[0m \u001b[32m━━━━━━━━━━━━━━━━━━━━\u001b[0m\u001b[37m\u001b[0m \u001b[1m1s\u001b[0m 17ms/step\n"
     ]
    }
   ],
   "source": [
    "y_pred_arabert_lstm = lstm_model_arabert.predict(X_test_arabert_reshaped).argmax(axis=-1)"
   ]
  },
  {
   "cell_type": "code",
   "execution_count": 58,
   "id": "78f6e3d4",
   "metadata": {},
   "outputs": [
    {
     "name": "stdout",
     "output_type": "stream",
     "text": [
      "Arabert Representation:\n",
      "Accuracy: 0.689\n",
      "Precision: 0.6901408450704225\n",
      "Recall: 0.686\n",
      "F1-score: 0.6880641925777332\n"
     ]
    }
   ],
   "source": [
    "accuracy_arabert_lstm = accuracy_score(y_test_encoded_arabert, y_pred_arabert_lstm)\n",
    "precision_arabert_lstm = precision_score(y_test_encoded_arabert, y_pred_arabert_lstm)\n",
    "recall_arabert_lstm = recall_score(y_test_encoded_arabert, y_pred_arabert_lstm)\n",
    "f1_arabert_lstm = f1_score(y_test_encoded_arabert, y_pred_arabert_lstm)\n",
    "\n",
    "print(\"Arabert Representation:\")\n",
    "print(\"Accuracy:\", accuracy_arabert_lstm)\n",
    "print(\"Precision:\", precision_arabert_lstm)\n",
    "print(\"Recall:\", recall_arabert_lstm)\n",
    "print(\"F1-score:\", f1_arabert_lstm)"
   ]
  },
  {
   "cell_type": "code",
   "execution_count": 59,
   "id": "df2c1f4d",
   "metadata": {},
   "outputs": [
    {
     "name": "stdout",
     "output_type": "stream",
     "text": [
      "Classification Report for Arabert Representation:\n",
      "               precision    recall  f1-score   support\n",
      "\n",
      "           0       0.69      0.69      0.69       500\n",
      "           1       0.69      0.69      0.69       500\n",
      "\n",
      "    accuracy                           0.69      1000\n",
      "   macro avg       0.69      0.69      0.69      1000\n",
      "weighted avg       0.69      0.69      0.69      1000\n",
      "\n"
     ]
    }
   ],
   "source": [
    "# Generate classification report for arabert representation\n",
    "classification_report_arabert_lstm = classification_report(y_test_encoded_arabert, y_pred_arabert_lstm)\n",
    "print(\"Classification Report for Arabert Representation:\\n\", classification_report_arabert_lstm)"
   ]
  }
 ],
 "metadata": {
  "kernelspec": {
   "display_name": "Python 3 (ipykernel)",
   "language": "python",
   "name": "python3"
  },
  "language_info": {
   "codemirror_mode": {
    "name": "ipython",
    "version": 3
   },
   "file_extension": ".py",
   "mimetype": "text/x-python",
   "name": "python",
   "nbconvert_exporter": "python",
   "pygments_lexer": "ipython3",
   "version": "3.9.12"
  }
 },
 "nbformat": 4,
 "nbformat_minor": 5
}
